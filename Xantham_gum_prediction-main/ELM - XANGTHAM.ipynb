{
 "cells": [
  {
   "cell_type": "code",
   "execution_count": 1,
   "id": "947b2246",
   "metadata": {},
   "outputs": [],
   "source": [
    "import pandas as pd\n",
    "import numpy as np\n",
    "import matplotlib.pyplot as plt\n",
    "import seaborn as sns\n",
    "import warnings\n",
    "warnings.filterwarnings(action=\"ignore\")"
   ]
  },
  {
   "cell_type": "code",
   "execution_count": 2,
   "id": "d578ce35",
   "metadata": {},
   "outputs": [
    {
     "data": {
      "text/html": [
       "<div>\n",
       "<style scoped>\n",
       "    .dataframe tbody tr th:only-of-type {\n",
       "        vertical-align: middle;\n",
       "    }\n",
       "\n",
       "    .dataframe tbody tr th {\n",
       "        vertical-align: top;\n",
       "    }\n",
       "\n",
       "    .dataframe thead th {\n",
       "        text-align: right;\n",
       "    }\n",
       "</style>\n",
       "<table border=\"1\" class=\"dataframe\">\n",
       "  <thead>\n",
       "    <tr style=\"text-align: right;\">\n",
       "      <th></th>\n",
       "      <th>X1</th>\n",
       "      <th>X2</th>\n",
       "      <th>X3</th>\n",
       "      <th>Observed</th>\n",
       "    </tr>\n",
       "  </thead>\n",
       "  <tbody>\n",
       "    <tr>\n",
       "      <th>0</th>\n",
       "      <td>1</td>\n",
       "      <td>2</td>\n",
       "      <td>7.5</td>\n",
       "      <td>7.22</td>\n",
       "    </tr>\n",
       "    <tr>\n",
       "      <th>1</th>\n",
       "      <td>3</td>\n",
       "      <td>2</td>\n",
       "      <td>7.5</td>\n",
       "      <td>7.52</td>\n",
       "    </tr>\n",
       "    <tr>\n",
       "      <th>2</th>\n",
       "      <td>1</td>\n",
       "      <td>6</td>\n",
       "      <td>7.5</td>\n",
       "      <td>4.58</td>\n",
       "    </tr>\n",
       "    <tr>\n",
       "      <th>3</th>\n",
       "      <td>3</td>\n",
       "      <td>6</td>\n",
       "      <td>7.5</td>\n",
       "      <td>6.45</td>\n",
       "    </tr>\n",
       "    <tr>\n",
       "      <th>4</th>\n",
       "      <td>1</td>\n",
       "      <td>4</td>\n",
       "      <td>0.0</td>\n",
       "      <td>4.47</td>\n",
       "    </tr>\n",
       "  </tbody>\n",
       "</table>\n",
       "</div>"
      ],
      "text/plain": [
       "   X1  X2   X3  Observed\n",
       "0   1   2  7.5      7.22\n",
       "1   3   2  7.5      7.52\n",
       "2   1   6  7.5      4.58\n",
       "3   3   6  7.5      6.45\n",
       "4   1   4  0.0      4.47"
      ]
     },
     "execution_count": 2,
     "metadata": {},
     "output_type": "execute_result"
    }
   ],
   "source": [
    "data=pd.read_excel(r\"C:\\Users\\User\\Desktop\\Machine Learning Project\\Biodiesel-Yield-Using-ANN-main\\Xantham_gum_data.xlsx\")\n",
    "data.head()"
   ]
  },
  {
   "cell_type": "code",
   "execution_count": 3,
   "id": "5eff6a23",
   "metadata": {},
   "outputs": [],
   "source": [
    "def get_preds(y_test, y_preds):\n",
    "    y_test=pd.DataFrame(y_test)\n",
    "    y_test.rename(columns={0:'Actual'}, inplace=True)\n",
    "    y_preds=pd.DataFrame(y_preds)\n",
    "    y_preds.rename(columns={0:'Predicted'}, inplace=True)\n",
    "    predictions=pd.concat([y_test, y_preds], axis=1)\n",
    "    return predictions    "
   ]
  },
  {
   "cell_type": "code",
   "execution_count": 4,
   "id": "88dd8aa0",
   "metadata": {},
   "outputs": [],
   "source": [
    "from sklearn.model_selection import train_test_split\n",
    "from sklearn.svm import SVR\n",
    "from sklearn.preprocessing import StandardScaler\n",
    "from math import sqrt\n",
    "from sklearn.metrics import r2_score, mean_absolute_error,mean_squared_error"
   ]
  },
  {
   "cell_type": "code",
   "execution_count": 5,
   "id": "62ed0680",
   "metadata": {},
   "outputs": [],
   "source": [
    "target=\"Observed\"\n",
    "X=data.drop(columns=[target])\n",
    "y=data[target]"
   ]
  },
  {
   "cell_type": "code",
   "execution_count": 6,
   "id": "48b87280",
   "metadata": {},
   "outputs": [],
   "source": [
    "X1=X.values\n",
    "y1=y.values.reshape(-1,1)\n",
    "X_train, X_test, y_train, y_test= train_test_split(X1, y1, test_size=0.3, random_state=100)\n",
    "sc=StandardScaler()\n",
    "X_train=sc.fit_transform(X_train)\n",
    "X_test=sc.transform(X_test)\n",
    "x_df=sc.transform(X1)\n",
    "sc_y=StandardScaler()\n",
    "y_train=sc_y.fit_transform(y_train)\n",
    "y_test=sc_y.transform(y_test)\n",
    "y_df=sc_y.transform(y1)"
   ]
  },
  {
   "cell_type": "code",
   "execution_count": 7,
   "id": "7a4d3ec7",
   "metadata": {},
   "outputs": [],
   "source": [
    "from scipy.linalg import pinv2, inv\n",
    "import time\n",
    "\n",
    "class elm():\n",
    "    '''\n",
    "    Function: elm class init\n",
    "    -------------------\n",
    "    Parameters:\n",
    "    shape: list, shape[hidden units, output units]\n",
    "        numbers of hidden units and output units\n",
    "    activation_function: str, 'sigmoid', 'relu', 'sin', 'tanh' or 'leaky_relu'\n",
    "        Activation function of neurals\n",
    "    x: array, shape[samples, features]\n",
    "        train data\n",
    "    y: array, shape[samples, ]\n",
    "        labels\n",
    "    C: float\n",
    "        regularization parameter\n",
    "    elm_type: str, 'clf' or 'reg'\n",
    "        'clf' means ELM solve classification problems, 'reg' means ELM solve regression problems.\n",
    "    one_hot: bool, Ture or False, default True \n",
    "        The parameter is useful only when elm_type == 'clf'. If the labels need to transformed to\n",
    "        one_hot, this parameter is set to be True\n",
    "    random_type: str, 'uniform' or 'normal', default:'normal'\n",
    "        Weight initialization method\n",
    "    '''\n",
    "    def __init__(self, hidden_units, activation_function,  x, y, C, elm_type, one_hot=True, random_type='normal'):\n",
    "        self.hidden_units = hidden_units\n",
    "        self.activation_function = activation_function\n",
    "        self.random_type = random_type\n",
    "        self.x = x\n",
    "        self.y = y\n",
    "        self.C = C\n",
    "        self.class_num = np.unique(self.y).shape[0]     \n",
    "        self.beta = np.zeros((self.hidden_units, self.class_num))   \n",
    "        self.elm_type = elm_type\n",
    "        self.one_hot = one_hot\n",
    "\n",
    "        # if classification problem and one_hot == True\n",
    "        if elm_type == 'clf' and self.one_hot:\n",
    "            self.one_hot_label = np.zeros((self.y.shape[0], self.class_num))\n",
    "            for i in range(self.y.shape[0]):\n",
    "                self.one_hot_label[i, int(self.y[i])] = 1\n",
    "\n",
    "        # Randomly generate the weight matrix and bias vector from input to hidden layer\n",
    "        # 'uniform': uniform distribution\n",
    "        # 'normal': normal distribution\n",
    "        if self.random_type == 'uniform':\n",
    "            self.W = np.random.uniform(low=0, high=1, size=(self.hidden_units, self.x.shape[1]))\n",
    "            self.b = np.random.uniform(low=0, high=1, size=(self.hidden_units, 1))\n",
    "        if self.random_type == 'normal':\n",
    "            self.W = np.random.normal(loc=0, scale=0.5, size=(self.hidden_units, self.x.shape[1]))\n",
    "            self.b = np.random.normal(loc=0, scale=0.5, size=(self.hidden_units, 1))\n",
    "\n",
    "    # compute the output of hidden layer according to different activation function\n",
    "    def __input2hidden(self, x):\n",
    "        self.temH = np.dot(self.W, x.T) + self.b\n",
    "\n",
    "        if self.activation_function == 'sigmoid':\n",
    "            self.H = 1/(1 + np.exp(- self.temH))\n",
    "\n",
    "        if self.activation_function == 'relu':\n",
    "            self.H = self.temH * (self.temH > 0)\n",
    "\n",
    "        if self.activation_function == 'sin':\n",
    "            self.H = np.sin(self.temH)\n",
    "\n",
    "        if self.activation_function == 'tanh':\n",
    "            self.H = (np.exp(self.temH) - np.exp(-self.temH))/(np.exp(self.temH) + np.exp(-self.temH))\n",
    "\n",
    "        if self.activation_function == 'leaky_relu':\n",
    "            self.H = np.maximum(0, self.temH) + 0.1 * np.minimum(0, self.temH)\n",
    "\n",
    "        return self.H\n",
    "\n",
    "    # compute the output\n",
    "    def __hidden2output(self, H):\n",
    "        self.output = np.dot(H.T, self.beta)\n",
    "        return self.output\n",
    "\n",
    "    '''\n",
    "    Function: Train the model, compute beta matrix, the weight matrix from hidden layer to output layer\n",
    "    ------------------\n",
    "    Parameter:\n",
    "    algorithm: str, 'no_re', 'solution1' or 'solution2'\n",
    "        The algorithm to compute beta matrix\n",
    "    ------------------\n",
    "    Return:\n",
    "    beta: array\n",
    "        the weight matrix from hidden layer to output layer\n",
    "    train_score: float\n",
    "        the accuracy or RMSE\n",
    "    train_time: str\n",
    "        time of computing beta\n",
    "    '''\n",
    "    def fit(self, algorithm):\n",
    "        self.time1 = time.time()   # compute running time\n",
    "        self.H = self.__input2hidden(self.x)\n",
    "        if self.elm_type == 'clf':\n",
    "            if self.one_hot:\n",
    "                self.y_temp = self.one_hot_label\n",
    "            else:\n",
    "                self.y_temp = self.y\n",
    "        if self.elm_type == 'reg':\n",
    "            self.y_temp = self.y\n",
    "        # no regularization\n",
    "        if algorithm == 'no_re':\n",
    "            self.beta = np.dot(pinv2(self.H.T), self.y_temp)\n",
    "        # faster algorithm 1\n",
    "        if algorithm == 'solution1':\n",
    "            self.tmp1 = inv(np.eye(self.H.shape[0])/self.C + np.dot(self.H, self.H.T))\n",
    "            self.tmp2 = np.dot(self.tmp1, self.H)\n",
    "            self.beta = np.dot(self.tmp2, self.y_temp)\n",
    "        # faster algorithm 2\n",
    "        if algorithm == 'solution2':\n",
    "            self.tmp1 = inv(np.eye(self.H.shape[0])/self.C + np.dot(self.H, self.H.T))\n",
    "            self.tmp2 = np.dot(self.H.T, self.tmp1)\n",
    "            self.beta = np.dot(self.tmp2.T, self.y_temp)\n",
    "        self.time2 = time.time()\n",
    "\n",
    "        # compute the results\n",
    "        self.result = self.__hidden2output(self.H)\n",
    "        # If the problem if classification problem, the output is softmax\n",
    "        if self.elm_type == 'clf':\n",
    "            self.result = np.exp(self.result)/np.sum(np.exp(self.result), axis=1).reshape(-1, 1)\n",
    "\n",
    "        # Evaluate training results\n",
    "        # If problem is classification, compute the accuracy\n",
    "        # If problem is regression, compute the RMSE\n",
    "        if self.elm_type == 'clf':\n",
    "            self.y_ = np.where(self.result == np.max(self.result, axis=1).reshape(-1, 1))[1]\n",
    "            self.correct = 0\n",
    "            for i in range(self.y.shape[0]):\n",
    "                if self.y_[i] == self.y[i]:\n",
    "                    self.correct += 1\n",
    "            self.train_score = self.correct/self.y.shape[0]\n",
    "        if self.elm_type == 'reg':\n",
    "            self.train_score = np.sqrt(np.sum((self.result - self.y) * (self.result - self.y))/self.y.shape[0])\n",
    "        train_time = str(self.time2 - self.time1)\n",
    "        return self.beta, self.train_score, train_time\n",
    "\n",
    "    '''\n",
    "    Function: compute the result given data\n",
    "    ---------------\n",
    "    Parameters:\n",
    "    x: array, shape[samples, features]\n",
    "    ---------------\n",
    "    Return:\n",
    "    y_: array\n",
    "        predicted results\n",
    "    '''\n",
    "    def predict(self, x):\n",
    "        self.H = self.__input2hidden(x)\n",
    "        self.y_ = self.__hidden2output(self.H)\n",
    "        if self.elm_type == 'clf':\n",
    "            self.y_ = np.where(self.y_ == np.max(self.y_, axis=1).reshape(-1, 1))[1]\n",
    "\n",
    "        return self.y_\n",
    "\n",
    "    '''\n",
    "    Function: compute accuracy or RMSE given data and labels\n",
    "    -------------\n",
    "    Parameters:\n",
    "    x: array, shape[samples, features]\n",
    "    y: array, shape[samples, ]\n",
    "    -------------\n",
    "    Return:\n",
    "    test_score: float, accuracy or RMSE\n",
    "    '''\n",
    "    def score(self, x, y):\n",
    "        self.prediction = self.predict(x)\n",
    "        if self.elm_type == 'clf':\n",
    "            self.correct = 0\n",
    "            for i in range(y.shape[0]):\n",
    "                if self.prediction[i] == y[i]:\n",
    "                    self.correct += 1\n",
    "            self.test_score = self.correct/y.shape[0]\n",
    "        if self.elm_type == 'reg':\n",
    "            self.test_score = np.sqrt(np.sum((self.result - self.y) * (self.result - self.y))/self.y.shape[0])\n",
    "\n",
    "        return self.test_score\n",
    "\n"
   ]
  },
  {
   "cell_type": "code",
   "execution_count": 8,
   "id": "08bd8f84",
   "metadata": {},
   "outputs": [
    {
     "name": "stdout",
     "output_type": "stream",
     "text": [
      "executed in 0.014794349670410156 seconds or 14.794349670410156 milliseconds\n"
     ]
    }
   ],
   "source": [
    "import time\n",
    "start_time=time.time()\n",
    "model = elm(hidden_units=50, activation_function='relu', random_type='normal', x=X_train, y=y_train, C=1, elm_type='reg')\n",
    "elapsed_time=time.time()-start_time\n",
    "print(f'executed in {elapsed_time} seconds or {elapsed_time*1000} milliseconds')"
   ]
  },
  {
   "cell_type": "code",
   "execution_count": 79,
   "id": "7ef3ad34",
   "metadata": {},
   "outputs": [
    {
     "name": "stdout",
     "output_type": "stream",
     "text": [
      "regression beta:\n",
      " [[ 4.91630768e-02]\n",
      " [-1.27673777e-01]\n",
      " [ 8.29182396e-02]\n",
      " [-1.24860300e-02]\n",
      " [ 8.74626980e-17]\n",
      " [-1.38158561e-03]\n",
      " [-4.98107229e-03]\n",
      " [-5.17462525e-02]\n",
      " [ 5.41024437e-02]\n",
      " [ 4.85891188e-03]\n",
      " [ 5.74083390e-03]\n",
      " [ 1.00630337e-01]\n",
      " [ 2.00213189e-01]\n",
      " [ 7.39240551e-02]\n",
      " [-3.48747310e-02]\n",
      " [-1.14547440e-01]\n",
      " [ 1.02522113e-01]\n",
      " [ 4.26288739e-02]\n",
      " [-1.56211214e-01]\n",
      " [-8.12991751e-02]\n",
      " [ 4.23896279e-02]\n",
      " [-2.15564962e-02]\n",
      " [-2.71447502e-01]\n",
      " [-2.12330016e-01]\n",
      " [-3.42423519e-02]\n",
      " [-1.09150305e-01]\n",
      " [ 6.37088802e-03]\n",
      " [ 1.04916964e-02]\n",
      " [ 7.48924893e-02]\n",
      " [ 1.42455343e-01]\n",
      " [-1.74669219e-01]\n",
      " [ 4.74438793e-02]\n",
      " [ 0.00000000e+00]\n",
      " [ 1.64900271e-02]\n",
      " [-2.05001173e-02]\n",
      " [ 1.23115975e-02]\n",
      " [-5.70076110e-02]\n",
      " [-4.36177640e-02]\n",
      " [ 1.39407802e-02]\n",
      " [-2.67363407e-02]\n",
      " [ 3.38096011e-02]\n",
      " [-2.67173551e-02]\n",
      " [ 1.75788455e-01]\n",
      " [ 1.25102083e-01]\n",
      " [ 1.02198580e-01]\n",
      " [ 9.40390706e-02]\n",
      " [ 5.27694313e-03]\n",
      " [ 1.80078595e-01]\n",
      " [ 3.04784848e-02]\n",
      " [-2.35048591e-01]]\n",
      "regression train score: 0.07728506318568673\n",
      "regression running time: 0.016205549240112305\n"
     ]
    }
   ],
   "source": [
    "beta, train_score, running_time = model.fit('no_re')\n",
    "print(\"regression beta:\\n\", beta)\n",
    "print(\"regression train score:\", train_score)\n",
    "print(\"regression running time:\", running_time)"
   ]
  },
  {
   "cell_type": "code",
   "execution_count": 85,
   "id": "a56f7f5d",
   "metadata": {},
   "outputs": [
    {
     "name": "stdout",
     "output_type": "stream",
     "text": [
      "regression result: [-0.18779502 -0.56499244 -1.52861396 -1.62586017  1.76891658  0.80529505\n",
      " -0.18779502  1.28268553  0.12457159 -0.18779502  0.30138288]\n",
      "regression score: 0.07728506318568673\n"
     ]
    }
   ],
   "source": [
    "prediction_train = model.predict(X_train)\n",
    "print(\"regression result:\", prediction.reshape(-1, ))\n",
    "print(\"regression score:\", model.score(X_train, y_train))"
   ]
  },
  {
   "cell_type": "code",
   "execution_count": 86,
   "id": "b3c7a74e",
   "metadata": {},
   "outputs": [
    {
     "data": {
      "text/html": [
       "<div>\n",
       "<style scoped>\n",
       "    .dataframe tbody tr th:only-of-type {\n",
       "        vertical-align: middle;\n",
       "    }\n",
       "\n",
       "    .dataframe tbody tr th {\n",
       "        vertical-align: top;\n",
       "    }\n",
       "\n",
       "    .dataframe thead th {\n",
       "        text-align: right;\n",
       "    }\n",
       "</style>\n",
       "<table border=\"1\" class=\"dataframe\">\n",
       "  <thead>\n",
       "    <tr style=\"text-align: right;\">\n",
       "      <th></th>\n",
       "      <th>Actual</th>\n",
       "      <th>Predicted</th>\n",
       "    </tr>\n",
       "  </thead>\n",
       "  <tbody>\n",
       "    <tr>\n",
       "      <th>0</th>\n",
       "      <td>6.22</td>\n",
       "      <td>6.096667</td>\n",
       "    </tr>\n",
       "    <tr>\n",
       "      <th>1</th>\n",
       "      <td>5.67</td>\n",
       "      <td>5.670000</td>\n",
       "    </tr>\n",
       "    <tr>\n",
       "      <th>2</th>\n",
       "      <td>4.58</td>\n",
       "      <td>4.580000</td>\n",
       "    </tr>\n",
       "    <tr>\n",
       "      <th>3</th>\n",
       "      <td>4.47</td>\n",
       "      <td>4.470000</td>\n",
       "    </tr>\n",
       "    <tr>\n",
       "      <th>4</th>\n",
       "      <td>8.31</td>\n",
       "      <td>8.310000</td>\n",
       "    </tr>\n",
       "    <tr>\n",
       "      <th>5</th>\n",
       "      <td>7.22</td>\n",
       "      <td>7.220000</td>\n",
       "    </tr>\n",
       "    <tr>\n",
       "      <th>6</th>\n",
       "      <td>6.21</td>\n",
       "      <td>6.096667</td>\n",
       "    </tr>\n",
       "    <tr>\n",
       "      <th>7</th>\n",
       "      <td>7.76</td>\n",
       "      <td>7.760000</td>\n",
       "    </tr>\n",
       "    <tr>\n",
       "      <th>8</th>\n",
       "      <td>6.45</td>\n",
       "      <td>6.450000</td>\n",
       "    </tr>\n",
       "    <tr>\n",
       "      <th>9</th>\n",
       "      <td>5.86</td>\n",
       "      <td>6.096667</td>\n",
       "    </tr>\n",
       "    <tr>\n",
       "      <th>10</th>\n",
       "      <td>6.65</td>\n",
       "      <td>6.650000</td>\n",
       "    </tr>\n",
       "  </tbody>\n",
       "</table>\n",
       "</div>"
      ],
      "text/plain": [
       "    Actual  Predicted\n",
       "0     6.22   6.096667\n",
       "1     5.67   5.670000\n",
       "2     4.58   4.580000\n",
       "3     4.47   4.470000\n",
       "4     8.31   8.310000\n",
       "5     7.22   7.220000\n",
       "6     6.21   6.096667\n",
       "7     7.76   7.760000\n",
       "8     6.45   6.450000\n",
       "9     5.86   6.096667\n",
       "10    6.65   6.650000"
      ]
     },
     "execution_count": 86,
     "metadata": {},
     "output_type": "execute_result"
    }
   ],
   "source": [
    "y_train1 = sc_y.inverse_transform(y_train)\n",
    "pred_train = sc_y.inverse_transform(prediction_train.reshape(-1,1))\n",
    "elm_prediction_train=get_preds(y_train1, pred_train)\n",
    "elm_prediction_train"
   ]
  },
  {
   "cell_type": "code",
   "execution_count": 87,
   "id": "56b4becf",
   "metadata": {},
   "outputs": [
    {
     "data": {
      "text/plain": [
       "0.9970090365730817"
      ]
     },
     "execution_count": 87,
     "metadata": {},
     "output_type": "execute_result"
    }
   ],
   "source": [
    "corr_train=elm_prediction_train[\"Actual\"].corr(elm_prediction_train[\"Predicted\"])\n",
    "corr_train"
   ]
  },
  {
   "cell_type": "code",
   "execution_count": 88,
   "id": "67156546",
   "metadata": {},
   "outputs": [
    {
     "name": "stdout",
     "output_type": "stream",
     "text": [
      "TRAIN Mean absolute error : 0.04303030303030362\n",
      "TRAIN Mean squared error : 0.007642424242424222\n",
      "TRAIN Root Mean squared error : 0.08742095997198968\n",
      "TRAIN R2 Score : 0.9940270190083844\n"
     ]
    }
   ],
   "source": [
    "print(\"TRAIN Mean absolute error :\", mean_absolute_error(y_train1,pred_train))\n",
    "print(\"TRAIN Mean squared error :\",mean_squared_error(y_train1,pred_train))\n",
    "print(\"TRAIN Root Mean squared error :\",sqrt(mean_squared_error(y_train1,pred_train)))\n",
    "print(\"TRAIN R2 Score :\",r2_score(y_train1,pred_train))"
   ]
  },
  {
   "cell_type": "code",
   "execution_count": null,
   "id": "fd3e2fe3",
   "metadata": {},
   "outputs": [],
   "source": []
  },
  {
   "cell_type": "code",
   "execution_count": null,
   "id": "4dffa1c6",
   "metadata": {},
   "outputs": [],
   "source": []
  },
  {
   "cell_type": "code",
   "execution_count": 83,
   "id": "8a63ddb1",
   "metadata": {},
   "outputs": [],
   "source": [
    "prediction_test = model.predict(X_test)"
   ]
  },
  {
   "cell_type": "code",
   "execution_count": 89,
   "id": "64a7e143",
   "metadata": {},
   "outputs": [
    {
     "data": {
      "text/html": [
       "<div>\n",
       "<style scoped>\n",
       "    .dataframe tbody tr th:only-of-type {\n",
       "        vertical-align: middle;\n",
       "    }\n",
       "\n",
       "    .dataframe tbody tr th {\n",
       "        vertical-align: top;\n",
       "    }\n",
       "\n",
       "    .dataframe thead th {\n",
       "        text-align: right;\n",
       "    }\n",
       "</style>\n",
       "<table border=\"1\" class=\"dataframe\">\n",
       "  <thead>\n",
       "    <tr style=\"text-align: right;\">\n",
       "      <th></th>\n",
       "      <th>Actual</th>\n",
       "      <th>Predicted</th>\n",
       "    </tr>\n",
       "  </thead>\n",
       "  <tbody>\n",
       "    <tr>\n",
       "      <th>0</th>\n",
       "      <td>6.28</td>\n",
       "      <td>6.096667</td>\n",
       "    </tr>\n",
       "    <tr>\n",
       "      <th>1</th>\n",
       "      <td>4.52</td>\n",
       "      <td>4.445082</td>\n",
       "    </tr>\n",
       "    <tr>\n",
       "      <th>2</th>\n",
       "      <td>6.93</td>\n",
       "      <td>6.925696</td>\n",
       "    </tr>\n",
       "    <tr>\n",
       "      <th>3</th>\n",
       "      <td>7.52</td>\n",
       "      <td>7.727526</td>\n",
       "    </tr>\n",
       "    <tr>\n",
       "      <th>4</th>\n",
       "      <td>5.81</td>\n",
       "      <td>6.096667</td>\n",
       "    </tr>\n",
       "    <tr>\n",
       "      <th>5</th>\n",
       "      <td>6.46</td>\n",
       "      <td>6.424957</td>\n",
       "    </tr>\n",
       "  </tbody>\n",
       "</table>\n",
       "</div>"
      ],
      "text/plain": [
       "   Actual  Predicted\n",
       "0    6.28   6.096667\n",
       "1    4.52   4.445082\n",
       "2    6.93   6.925696\n",
       "3    7.52   7.727526\n",
       "4    5.81   6.096667\n",
       "5    6.46   6.424957"
      ]
     },
     "execution_count": 89,
     "metadata": {},
     "output_type": "execute_result"
    }
   ],
   "source": [
    "y_test1 = sc_y.inverse_transform(y_test)\n",
    "pred_test = sc_y.inverse_transform(prediction_test.reshape(-1,1))\n",
    "elm_prediction_test=get_preds(y_test1, pred_test)\n",
    "elm_prediction_test"
   ]
  },
  {
   "cell_type": "code",
   "execution_count": 90,
   "id": "f79cb131",
   "metadata": {},
   "outputs": [
    {
     "data": {
      "text/plain": [
       "0.9875684797050625"
      ]
     },
     "execution_count": 90,
     "metadata": {},
     "output_type": "execute_result"
    }
   ],
   "source": [
    "corr_test=elm_prediction_test[\"Actual\"].corr(elm_prediction_test[\"Predicted\"])\n",
    "corr_test"
   ]
  },
  {
   "cell_type": "code",
   "execution_count": 99,
   "id": "9a39f63b",
   "metadata": {},
   "outputs": [
    {
     "name": "stdout",
     "output_type": "stream",
     "text": [
      "TEST Mean absolute error : 0.1319651150384257\n",
      "TEST Mean squared error : 0.027619199986825414\n",
      "TEST Root Mean squared error : 0.16619025238209795\n",
      "TEST R2 Score : 0.9687726536247749\n"
     ]
    }
   ],
   "source": [
    "print(\"TEST Mean absolute error :\", mean_absolute_error(y_test1,pred_test))\n",
    "print(\"TEST Mean squared error :\",mean_squared_error(y_test1,pred_test))\n",
    "print(\"TEST Root Mean squared error :\",sqrt(mean_squared_error(y_test1,pred_test)))\n",
    "print(\"TEST R2 Score :\",r2_score(y_test1,pred_test))"
   ]
  },
  {
   "cell_type": "code",
   "execution_count": null,
   "id": "3aa99646",
   "metadata": {},
   "outputs": [],
   "source": []
  },
  {
   "cell_type": "code",
   "execution_count": null,
   "id": "166a50ab",
   "metadata": {},
   "outputs": [],
   "source": []
  },
  {
   "cell_type": "code",
   "execution_count": null,
   "id": "576d5d76",
   "metadata": {},
   "outputs": [],
   "source": []
  },
  {
   "cell_type": "code",
   "execution_count": 94,
   "id": "f4f5dbe7",
   "metadata": {},
   "outputs": [],
   "source": [
    "prediction_df = model.predict(x_df)"
   ]
  },
  {
   "cell_type": "code",
   "execution_count": 97,
   "id": "46dbe547",
   "metadata": {},
   "outputs": [
    {
     "data": {
      "text/html": [
       "<div>\n",
       "<style scoped>\n",
       "    .dataframe tbody tr th:only-of-type {\n",
       "        vertical-align: middle;\n",
       "    }\n",
       "\n",
       "    .dataframe tbody tr th {\n",
       "        vertical-align: top;\n",
       "    }\n",
       "\n",
       "    .dataframe thead th {\n",
       "        text-align: right;\n",
       "    }\n",
       "</style>\n",
       "<table border=\"1\" class=\"dataframe\">\n",
       "  <thead>\n",
       "    <tr style=\"text-align: right;\">\n",
       "      <th></th>\n",
       "      <th>Actual</th>\n",
       "      <th>Predicted</th>\n",
       "    </tr>\n",
       "  </thead>\n",
       "  <tbody>\n",
       "    <tr>\n",
       "      <th>0</th>\n",
       "      <td>7.22</td>\n",
       "      <td>7.220000</td>\n",
       "    </tr>\n",
       "    <tr>\n",
       "      <th>1</th>\n",
       "      <td>7.52</td>\n",
       "      <td>7.727526</td>\n",
       "    </tr>\n",
       "    <tr>\n",
       "      <th>2</th>\n",
       "      <td>4.58</td>\n",
       "      <td>4.580000</td>\n",
       "    </tr>\n",
       "    <tr>\n",
       "      <th>3</th>\n",
       "      <td>6.45</td>\n",
       "      <td>6.450000</td>\n",
       "    </tr>\n",
       "    <tr>\n",
       "      <th>4</th>\n",
       "      <td>4.47</td>\n",
       "      <td>4.470000</td>\n",
       "    </tr>\n",
       "    <tr>\n",
       "      <th>5</th>\n",
       "      <td>5.67</td>\n",
       "      <td>5.670000</td>\n",
       "    </tr>\n",
       "    <tr>\n",
       "      <th>6</th>\n",
       "      <td>6.46</td>\n",
       "      <td>6.424957</td>\n",
       "    </tr>\n",
       "    <tr>\n",
       "      <th>7</th>\n",
       "      <td>7.76</td>\n",
       "      <td>7.760000</td>\n",
       "    </tr>\n",
       "    <tr>\n",
       "      <th>8</th>\n",
       "      <td>6.65</td>\n",
       "      <td>6.650000</td>\n",
       "    </tr>\n",
       "    <tr>\n",
       "      <th>9</th>\n",
       "      <td>4.52</td>\n",
       "      <td>4.445082</td>\n",
       "    </tr>\n",
       "    <tr>\n",
       "      <th>10</th>\n",
       "      <td>8.31</td>\n",
       "      <td>8.310000</td>\n",
       "    </tr>\n",
       "    <tr>\n",
       "      <th>11</th>\n",
       "      <td>6.93</td>\n",
       "      <td>6.925696</td>\n",
       "    </tr>\n",
       "    <tr>\n",
       "      <th>12</th>\n",
       "      <td>5.81</td>\n",
       "      <td>6.096667</td>\n",
       "    </tr>\n",
       "    <tr>\n",
       "      <th>13</th>\n",
       "      <td>6.21</td>\n",
       "      <td>6.096667</td>\n",
       "    </tr>\n",
       "    <tr>\n",
       "      <th>14</th>\n",
       "      <td>6.28</td>\n",
       "      <td>6.096667</td>\n",
       "    </tr>\n",
       "    <tr>\n",
       "      <th>15</th>\n",
       "      <td>6.22</td>\n",
       "      <td>6.096667</td>\n",
       "    </tr>\n",
       "    <tr>\n",
       "      <th>16</th>\n",
       "      <td>5.86</td>\n",
       "      <td>6.096667</td>\n",
       "    </tr>\n",
       "  </tbody>\n",
       "</table>\n",
       "</div>"
      ],
      "text/plain": [
       "    Actual  Predicted\n",
       "0     7.22   7.220000\n",
       "1     7.52   7.727526\n",
       "2     4.58   4.580000\n",
       "3     6.45   6.450000\n",
       "4     4.47   4.470000\n",
       "5     5.67   5.670000\n",
       "6     6.46   6.424957\n",
       "7     7.76   7.760000\n",
       "8     6.65   6.650000\n",
       "9     4.52   4.445082\n",
       "10    8.31   8.310000\n",
       "11    6.93   6.925696\n",
       "12    5.81   6.096667\n",
       "13    6.21   6.096667\n",
       "14    6.28   6.096667\n",
       "15    6.22   6.096667\n",
       "16    5.86   6.096667"
      ]
     },
     "execution_count": 97,
     "metadata": {},
     "output_type": "execute_result"
    }
   ],
   "source": [
    "y_df1 = sc_y.inverse_transform(y_df)\n",
    "pred_df = sc_y.inverse_transform(prediction_df.reshape(-1,1))\n",
    "elm_prediction_df=get_preds(y_df1, pred_df)\n",
    "elm_prediction_df"
   ]
  },
  {
   "cell_type": "code",
   "execution_count": 98,
   "id": "c42116b5",
   "metadata": {},
   "outputs": [
    {
     "data": {
      "text/plain": [
       "0.9938134841736415"
      ]
     },
     "execution_count": 98,
     "metadata": {},
     "output_type": "execute_result"
    }
   ],
   "source": [
    "corr_df=elm_prediction_df[\"Actual\"].corr(elm_prediction_df[\"Predicted\"])\n",
    "corr_df"
   ]
  },
  {
   "cell_type": "code",
   "execution_count": 100,
   "id": "2e7290b0",
   "metadata": {},
   "outputs": [
    {
     "name": "stdout",
     "output_type": "stream",
     "text": [
      "FULL DATA Mean absolute error : 0.07441906020964083\n",
      "FULL DATA Mean squared error : 0.014693050975742292\n",
      "FULL DATA Root Mean squared error : 0.12121489584924079\n",
      "FULL DATA R2 Score : 0.9871201939664119\n"
     ]
    }
   ],
   "source": [
    "print(\"FULL DATA Mean absolute error :\", mean_absolute_error(y_df1,pred_df))\n",
    "print(\"FULL DATA Mean squared error :\",mean_squared_error(y_df1,pred_df))\n",
    "print(\"FULL DATA Root Mean squared error :\",sqrt(mean_squared_error(y_df1,pred_df)))\n",
    "print(\"FULL DATA R2 Score :\",r2_score(y_df1,pred_df))"
   ]
  },
  {
   "cell_type": "code",
   "execution_count": null,
   "id": "ba0a5fe4",
   "metadata": {},
   "outputs": [],
   "source": []
  },
  {
   "cell_type": "code",
   "execution_count": null,
   "id": "866e5c58",
   "metadata": {},
   "outputs": [],
   "source": []
  },
  {
   "cell_type": "code",
   "execution_count": 120,
   "id": "1cd808d3",
   "metadata": {},
   "outputs": [],
   "source": [
    "model1 = elm(hidden_units=50, activation_function='leaky_relu', random_type='normal', x=X_train, y=y_train, C=1, elm_type='reg')"
   ]
  },
  {
   "cell_type": "code",
   "execution_count": 121,
   "id": "4114fc07",
   "metadata": {},
   "outputs": [
    {
     "name": "stdout",
     "output_type": "stream",
     "text": [
      "regression beta:\n",
      " [[-0.07582857]\n",
      " [ 0.051428  ]\n",
      " [ 0.05661829]\n",
      " [ 0.04996149]\n",
      " [ 0.08860329]\n",
      " [ 0.03269863]\n",
      " [ 0.12240455]\n",
      " [-0.14691729]\n",
      " [ 0.12736332]\n",
      " [ 0.04802412]\n",
      " [-0.038976  ]\n",
      " [-0.06407126]\n",
      " [-0.00033169]\n",
      " [ 0.03727431]\n",
      " [ 0.06424671]\n",
      " [ 0.05964288]\n",
      " [-0.00799503]\n",
      " [-0.10088277]\n",
      " [ 0.02705199]\n",
      " [-0.05710991]\n",
      " [ 0.13674625]\n",
      " [ 0.10305118]\n",
      " [ 0.0623825 ]\n",
      " [ 0.08435581]\n",
      " [-0.14220799]\n",
      " [-0.00695537]\n",
      " [ 0.04374524]\n",
      " [ 0.02762613]\n",
      " [-0.00525959]\n",
      " [-0.15737618]\n",
      " [-0.02680718]\n",
      " [-0.00902521]\n",
      " [ 0.00388299]\n",
      " [ 0.20060648]\n",
      " [ 0.00994542]\n",
      " [-0.11702533]\n",
      " [-0.01742323]\n",
      " [-0.19478933]\n",
      " [ 0.15127425]\n",
      " [-0.07372018]\n",
      " [ 0.00133105]\n",
      " [-0.00398348]\n",
      " [ 0.19090932]\n",
      " [ 0.09264271]\n",
      " [-0.0107462 ]\n",
      " [-0.01050402]\n",
      " [-0.01112077]\n",
      " [-0.07656022]\n",
      " [ 0.08288803]\n",
      " [-0.05995509]]\n",
      "regression train score: 0.10450585464470323\n",
      "regression running time: 0.0009984970092773438\n"
     ]
    }
   ],
   "source": [
    "beta, train_score, running_time = model1.fit('solution1')\n",
    "print(\"regression beta:\\n\", beta)\n",
    "print(\"regression train score:\", train_score)\n",
    "print(\"regression running time:\", running_time)"
   ]
  },
  {
   "cell_type": "code",
   "execution_count": 122,
   "id": "a33870ed",
   "metadata": {},
   "outputs": [
    {
     "data": {
      "text/html": [
       "<div>\n",
       "<style scoped>\n",
       "    .dataframe tbody tr th:only-of-type {\n",
       "        vertical-align: middle;\n",
       "    }\n",
       "\n",
       "    .dataframe tbody tr th {\n",
       "        vertical-align: top;\n",
       "    }\n",
       "\n",
       "    .dataframe thead th {\n",
       "        text-align: right;\n",
       "    }\n",
       "</style>\n",
       "<table border=\"1\" class=\"dataframe\">\n",
       "  <thead>\n",
       "    <tr style=\"text-align: right;\">\n",
       "      <th></th>\n",
       "      <th>Actual</th>\n",
       "      <th>Predicted</th>\n",
       "    </tr>\n",
       "  </thead>\n",
       "  <tbody>\n",
       "    <tr>\n",
       "      <th>0</th>\n",
       "      <td>6.22</td>\n",
       "      <td>6.171967</td>\n",
       "    </tr>\n",
       "    <tr>\n",
       "      <th>1</th>\n",
       "      <td>5.67</td>\n",
       "      <td>5.762873</td>\n",
       "    </tr>\n",
       "    <tr>\n",
       "      <th>2</th>\n",
       "      <td>4.58</td>\n",
       "      <td>4.637983</td>\n",
       "    </tr>\n",
       "    <tr>\n",
       "      <th>3</th>\n",
       "      <td>4.47</td>\n",
       "      <td>4.512423</td>\n",
       "    </tr>\n",
       "    <tr>\n",
       "      <th>4</th>\n",
       "      <td>8.31</td>\n",
       "      <td>8.187838</td>\n",
       "    </tr>\n",
       "    <tr>\n",
       "      <th>5</th>\n",
       "      <td>7.22</td>\n",
       "      <td>7.162069</td>\n",
       "    </tr>\n",
       "    <tr>\n",
       "      <th>6</th>\n",
       "      <td>6.21</td>\n",
       "      <td>6.171967</td>\n",
       "    </tr>\n",
       "    <tr>\n",
       "      <th>7</th>\n",
       "      <td>7.76</td>\n",
       "      <td>7.805962</td>\n",
       "    </tr>\n",
       "    <tr>\n",
       "      <th>8</th>\n",
       "      <td>6.45</td>\n",
       "      <td>6.327850</td>\n",
       "    </tr>\n",
       "    <tr>\n",
       "      <th>9</th>\n",
       "      <td>5.86</td>\n",
       "      <td>6.171967</td>\n",
       "    </tr>\n",
       "    <tr>\n",
       "      <th>10</th>\n",
       "      <td>6.65</td>\n",
       "      <td>6.590524</td>\n",
       "    </tr>\n",
       "  </tbody>\n",
       "</table>\n",
       "</div>"
      ],
      "text/plain": [
       "    Actual  Predicted\n",
       "0     6.22   6.171967\n",
       "1     5.67   5.762873\n",
       "2     4.58   4.637983\n",
       "3     4.47   4.512423\n",
       "4     8.31   8.187838\n",
       "5     7.22   7.162069\n",
       "6     6.21   6.171967\n",
       "7     7.76   7.805962\n",
       "8     6.45   6.327850\n",
       "9     5.86   6.171967\n",
       "10    6.65   6.590524"
      ]
     },
     "execution_count": 122,
     "metadata": {},
     "output_type": "execute_result"
    }
   ],
   "source": [
    "prediction_train_leaky = model1.predict(X_train)\n",
    "y_train_leaky = sc_y.inverse_transform(y_train)\n",
    "pred_train_sin = sc_y.inverse_transform(prediction_train_leaky.reshape(-1,1))\n",
    "elm_prediction_train_leaky=get_preds(y_train_leaky, pred_train_sin)\n",
    "elm_prediction_train_leaky"
   ]
  },
  {
   "cell_type": "code",
   "execution_count": 123,
   "id": "1fe1915e",
   "metadata": {},
   "outputs": [
    {
     "name": "stdout",
     "output_type": "stream",
     "text": [
      "TRAIN leaky Mean absolute error : 0.08533579434185366\n",
      "TRAIN leaky Mean squared error : 0.010539152788092579\n",
      "TRAIN leaky Root Mean squared error : 0.10266037593975866\n",
      "TRAIN leaky R2 Score : 0.9894608472119074\n"
     ]
    }
   ],
   "source": [
    "print(\"TRAIN leaky Mean absolute error :\", mean_absolute_error(y_train,prediction_train_sin))\n",
    "print(\"TRAIN leaky Mean squared error :\",mean_squared_error(y_train,prediction_train_sin))\n",
    "print(\"TRAIN leaky Root Mean squared error :\",sqrt(mean_squared_error(y_train,prediction_train_sin)))\n",
    "print(\"TRAIN leaky R2 Score :\",r2_score(y_train,prediction_train_sin))"
   ]
  },
  {
   "cell_type": "code",
   "execution_count": 129,
   "id": "c097dde6",
   "metadata": {},
   "outputs": [
    {
     "data": {
      "text/plain": [
       "0.9213579943132063"
      ]
     },
     "execution_count": 129,
     "metadata": {},
     "output_type": "execute_result"
    }
   ],
   "source": [
    "pred_test_leaky=model1.predict(X_test)\n",
    "r2_score(y_test,pred_test_leaky)"
   ]
  },
  {
   "cell_type": "code",
   "execution_count": null,
   "id": "cf108420",
   "metadata": {},
   "outputs": [],
   "source": []
  },
  {
   "cell_type": "code",
   "execution_count": null,
   "id": "a050a663",
   "metadata": {},
   "outputs": [],
   "source": []
  },
  {
   "cell_type": "code",
   "execution_count": null,
   "id": "e183eeba",
   "metadata": {},
   "outputs": [],
   "source": []
  },
  {
   "cell_type": "code",
   "execution_count": 12,
   "id": "c70e4956",
   "metadata": {},
   "outputs": [],
   "source": [
    "model2= elm(hidden_units=50, activation_function='sin', random_type='normal', x=X_train, y=y_train, C=1, elm_type='reg')"
   ]
  },
  {
   "cell_type": "code",
   "execution_count": 13,
   "id": "a808e417",
   "metadata": {},
   "outputs": [],
   "source": [
    "beta, train_score, running_time = model2.fit('solution1')"
   ]
  },
  {
   "cell_type": "code",
   "execution_count": 14,
   "id": "3877759e",
   "metadata": {},
   "outputs": [
    {
     "data": {
      "text/html": [
       "<div>\n",
       "<style scoped>\n",
       "    .dataframe tbody tr th:only-of-type {\n",
       "        vertical-align: middle;\n",
       "    }\n",
       "\n",
       "    .dataframe tbody tr th {\n",
       "        vertical-align: top;\n",
       "    }\n",
       "\n",
       "    .dataframe thead th {\n",
       "        text-align: right;\n",
       "    }\n",
       "</style>\n",
       "<table border=\"1\" class=\"dataframe\">\n",
       "  <thead>\n",
       "    <tr style=\"text-align: right;\">\n",
       "      <th></th>\n",
       "      <th>Actual</th>\n",
       "      <th>Predicted</th>\n",
       "    </tr>\n",
       "  </thead>\n",
       "  <tbody>\n",
       "    <tr>\n",
       "      <th>0</th>\n",
       "      <td>6.22</td>\n",
       "      <td>6.141355</td>\n",
       "    </tr>\n",
       "    <tr>\n",
       "      <th>1</th>\n",
       "      <td>5.67</td>\n",
       "      <td>5.765183</td>\n",
       "    </tr>\n",
       "    <tr>\n",
       "      <th>2</th>\n",
       "      <td>4.58</td>\n",
       "      <td>4.647315</td>\n",
       "    </tr>\n",
       "    <tr>\n",
       "      <th>3</th>\n",
       "      <td>4.47</td>\n",
       "      <td>4.562987</td>\n",
       "    </tr>\n",
       "    <tr>\n",
       "      <th>4</th>\n",
       "      <td>8.31</td>\n",
       "      <td>8.247510</td>\n",
       "    </tr>\n",
       "    <tr>\n",
       "      <th>5</th>\n",
       "      <td>7.22</td>\n",
       "      <td>7.083947</td>\n",
       "    </tr>\n",
       "    <tr>\n",
       "      <th>6</th>\n",
       "      <td>6.21</td>\n",
       "      <td>6.141355</td>\n",
       "    </tr>\n",
       "    <tr>\n",
       "      <th>7</th>\n",
       "      <td>7.76</td>\n",
       "      <td>7.815229</td>\n",
       "    </tr>\n",
       "    <tr>\n",
       "      <th>8</th>\n",
       "      <td>6.45</td>\n",
       "      <td>6.213194</td>\n",
       "    </tr>\n",
       "    <tr>\n",
       "      <th>9</th>\n",
       "      <td>5.86</td>\n",
       "      <td>6.141355</td>\n",
       "    </tr>\n",
       "    <tr>\n",
       "      <th>10</th>\n",
       "      <td>6.65</td>\n",
       "      <td>6.571955</td>\n",
       "    </tr>\n",
       "  </tbody>\n",
       "</table>\n",
       "</div>"
      ],
      "text/plain": [
       "    Actual  Predicted\n",
       "0     6.22   6.141355\n",
       "1     5.67   5.765183\n",
       "2     4.58   4.647315\n",
       "3     4.47   4.562987\n",
       "4     8.31   8.247510\n",
       "5     7.22   7.083947\n",
       "6     6.21   6.141355\n",
       "7     7.76   7.815229\n",
       "8     6.45   6.213194\n",
       "9     5.86   6.141355\n",
       "10    6.65   6.571955"
      ]
     },
     "execution_count": 14,
     "metadata": {},
     "output_type": "execute_result"
    }
   ],
   "source": [
    "prediction_train_tanh = model2.predict(X_train)\n",
    "y_train_tanh = sc_y.inverse_transform(y_train)\n",
    "pred_train_tanh = sc_y.inverse_transform(prediction_train_tanh.reshape(-1,1))\n",
    "elm_prediction_train_tanh=get_preds(y_train_tanh, pred_train_tanh)\n",
    "elm_prediction_train_tanh"
   ]
  },
  {
   "cell_type": "code",
   "execution_count": 15,
   "id": "ec0106eb",
   "metadata": {},
   "outputs": [
    {
     "name": "stdout",
     "output_type": "stream",
     "text": [
      "TRAIN tanh Mean absolute error : 0.10068220475735777\n",
      "TRAIN tanh Mean squared error : 0.01420508084826863\n",
      "TRAIN tanh Root Mean squared error : 0.11918506973723106\n",
      "TRAIN tanh R2 Score : 0.9857949191517313\n"
     ]
    }
   ],
   "source": [
    "print(\"TRAIN tanh Mean absolute error :\", mean_absolute_error(y_train,prediction_train_tanh))\n",
    "print(\"TRAIN tanh Mean squared error :\",mean_squared_error(y_train,prediction_train_tanh))\n",
    "print(\"TRAIN tanh Root Mean squared error :\",sqrt(mean_squared_error(y_train,prediction_train_tanh)))\n",
    "print(\"TRAIN tanh R2 Score :\",r2_score(y_train,prediction_train_tanh))"
   ]
  },
  {
   "cell_type": "code",
   "execution_count": 16,
   "id": "6fe3a810",
   "metadata": {},
   "outputs": [
    {
     "data": {
      "text/plain": [
       "0.8792203075368237"
      ]
     },
     "execution_count": 16,
     "metadata": {},
     "output_type": "execute_result"
    }
   ],
   "source": [
    "pred_test_tan=model2.predict(X_test)\n",
    "r2_score(y_test,pred_test_tan)"
   ]
  },
  {
   "cell_type": "code",
   "execution_count": null,
   "id": "58f8ec81",
   "metadata": {},
   "outputs": [],
   "source": []
  },
  {
   "cell_type": "code",
   "execution_count": null,
   "id": "9da858f7",
   "metadata": {},
   "outputs": [],
   "source": []
  },
  {
   "cell_type": "code",
   "execution_count": null,
   "id": "551e9ed3",
   "metadata": {},
   "outputs": [],
   "source": []
  },
  {
   "cell_type": "code",
   "execution_count": 110,
   "id": "35edb8be",
   "metadata": {},
   "outputs": [],
   "source": [
    "model3= elm(hidden_units=50, activation_function='sin', random_type='normal', x=X_train, y=y_train, C=1, elm_type='reg')"
   ]
  },
  {
   "cell_type": "code",
   "execution_count": 118,
   "id": "70cddaf4",
   "metadata": {},
   "outputs": [],
   "source": [
    "beta, train_score, running_time = model3.fit('solution2')"
   ]
  },
  {
   "cell_type": "code",
   "execution_count": 124,
   "id": "b0f2444c",
   "metadata": {},
   "outputs": [
    {
     "data": {
      "text/html": [
       "<div>\n",
       "<style scoped>\n",
       "    .dataframe tbody tr th:only-of-type {\n",
       "        vertical-align: middle;\n",
       "    }\n",
       "\n",
       "    .dataframe tbody tr th {\n",
       "        vertical-align: top;\n",
       "    }\n",
       "\n",
       "    .dataframe thead th {\n",
       "        text-align: right;\n",
       "    }\n",
       "</style>\n",
       "<table border=\"1\" class=\"dataframe\">\n",
       "  <thead>\n",
       "    <tr style=\"text-align: right;\">\n",
       "      <th></th>\n",
       "      <th>Actual</th>\n",
       "      <th>Predicted</th>\n",
       "    </tr>\n",
       "  </thead>\n",
       "  <tbody>\n",
       "    <tr>\n",
       "      <th>0</th>\n",
       "      <td>6.22</td>\n",
       "      <td>6.195549</td>\n",
       "    </tr>\n",
       "    <tr>\n",
       "      <th>1</th>\n",
       "      <td>5.67</td>\n",
       "      <td>5.742551</td>\n",
       "    </tr>\n",
       "    <tr>\n",
       "      <th>2</th>\n",
       "      <td>4.58</td>\n",
       "      <td>4.547866</td>\n",
       "    </tr>\n",
       "    <tr>\n",
       "      <th>3</th>\n",
       "      <td>4.47</td>\n",
       "      <td>4.592756</td>\n",
       "    </tr>\n",
       "    <tr>\n",
       "      <th>4</th>\n",
       "      <td>8.31</td>\n",
       "      <td>8.236588</td>\n",
       "    </tr>\n",
       "    <tr>\n",
       "      <th>5</th>\n",
       "      <td>7.22</td>\n",
       "      <td>7.059644</td>\n",
       "    </tr>\n",
       "    <tr>\n",
       "      <th>6</th>\n",
       "      <td>6.21</td>\n",
       "      <td>6.195549</td>\n",
       "    </tr>\n",
       "    <tr>\n",
       "      <th>7</th>\n",
       "      <td>7.76</td>\n",
       "      <td>7.755135</td>\n",
       "    </tr>\n",
       "    <tr>\n",
       "      <th>8</th>\n",
       "      <td>6.45</td>\n",
       "      <td>6.226038</td>\n",
       "    </tr>\n",
       "    <tr>\n",
       "      <th>9</th>\n",
       "      <td>5.86</td>\n",
       "      <td>6.195549</td>\n",
       "    </tr>\n",
       "    <tr>\n",
       "      <th>10</th>\n",
       "      <td>6.65</td>\n",
       "      <td>6.539582</td>\n",
       "    </tr>\n",
       "  </tbody>\n",
       "</table>\n",
       "</div>"
      ],
      "text/plain": [
       "    Actual  Predicted\n",
       "0     6.22   6.195549\n",
       "1     5.67   5.742551\n",
       "2     4.58   4.547866\n",
       "3     4.47   4.592756\n",
       "4     8.31   8.236588\n",
       "5     7.22   7.059644\n",
       "6     6.21   6.195549\n",
       "7     7.76   7.755135\n",
       "8     6.45   6.226038\n",
       "9     5.86   6.195549\n",
       "10    6.65   6.539582"
      ]
     },
     "execution_count": 124,
     "metadata": {},
     "output_type": "execute_result"
    }
   ],
   "source": [
    "prediction_train_sin = model3.predict(X_train)\n",
    "y_train_sin = sc_y.inverse_transform(y_train)\n",
    "pred_train_sin = sc_y.inverse_transform(prediction_train_sin.reshape(-1,1))\n",
    "elm_prediction_train_sin=get_preds(y_train_sin, pred_train_sin)\n",
    "elm_prediction_train_sin"
   ]
  },
  {
   "cell_type": "code",
   "execution_count": 125,
   "id": "127580c9",
   "metadata": {},
   "outputs": [
    {
     "name": "stdout",
     "output_type": "stream",
     "text": [
      "TRAIN sin Mean absolute error : 0.09442582136092338\n",
      "TRAIN sin Mean squared error : 0.016216818956722338\n",
      "TRAIN sin Root Mean squared error : 0.12734527457555045\n",
      "TRAIN sin R2 Score : 0.9837831810432777\n"
     ]
    }
   ],
   "source": [
    "print(\"TRAIN sin Mean absolute error :\", mean_absolute_error(y_train,prediction_train_sin))\n",
    "print(\"TRAIN sin Mean squared error :\",mean_squared_error(y_train,prediction_train_sin))\n",
    "print(\"TRAIN sin Root Mean squared error :\",sqrt(mean_squared_error(y_train,prediction_train_sin)))\n",
    "print(\"TRAIN sin R2 Score :\",r2_score(y_train,prediction_train_sin))"
   ]
  },
  {
   "cell_type": "code",
   "execution_count": 127,
   "id": "0dc8e52d",
   "metadata": {},
   "outputs": [
    {
     "data": {
      "text/plain": [
       "0.7834853067745615"
      ]
     },
     "execution_count": 127,
     "metadata": {},
     "output_type": "execute_result"
    }
   ],
   "source": [
    "test_pred_sin=model3.predict(X_test)\n",
    "r2_score(y_test,test_pred_sin)"
   ]
  },
  {
   "cell_type": "code",
   "execution_count": null,
   "id": "2ee59684",
   "metadata": {},
   "outputs": [],
   "source": []
  }
 ],
 "metadata": {
  "kernelspec": {
   "display_name": "Python 3 (ipykernel)",
   "language": "python",
   "name": "python3"
  },
  "language_info": {
   "codemirror_mode": {
    "name": "ipython",
    "version": 3
   },
   "file_extension": ".py",
   "mimetype": "text/x-python",
   "name": "python",
   "nbconvert_exporter": "python",
   "pygments_lexer": "ipython3",
   "version": "3.9.7"
  }
 },
 "nbformat": 4,
 "nbformat_minor": 5
}
