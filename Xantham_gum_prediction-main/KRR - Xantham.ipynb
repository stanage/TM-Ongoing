{
 "cells": [
  {
   "cell_type": "code",
   "execution_count": 37,
   "id": "f73595a3",
   "metadata": {},
   "outputs": [],
   "source": [
    "from sklearn.linear_model import Ridge\n",
    "import pandas as pd\n",
    "import numpy as np\n",
    "import matplotlib.pyplot as plt\n",
    "import seaborn as sns"
   ]
  },
  {
   "cell_type": "code",
   "execution_count": 38,
   "id": "9fcce424",
   "metadata": {},
   "outputs": [
    {
     "data": {
      "text/html": [
       "<div>\n",
       "<style scoped>\n",
       "    .dataframe tbody tr th:only-of-type {\n",
       "        vertical-align: middle;\n",
       "    }\n",
       "\n",
       "    .dataframe tbody tr th {\n",
       "        vertical-align: top;\n",
       "    }\n",
       "\n",
       "    .dataframe thead th {\n",
       "        text-align: right;\n",
       "    }\n",
       "</style>\n",
       "<table border=\"1\" class=\"dataframe\">\n",
       "  <thead>\n",
       "    <tr style=\"text-align: right;\">\n",
       "      <th></th>\n",
       "      <th>X1</th>\n",
       "      <th>X2</th>\n",
       "      <th>X3</th>\n",
       "      <th>Observed</th>\n",
       "    </tr>\n",
       "  </thead>\n",
       "  <tbody>\n",
       "    <tr>\n",
       "      <th>0</th>\n",
       "      <td>1</td>\n",
       "      <td>2</td>\n",
       "      <td>7.5</td>\n",
       "      <td>7.22</td>\n",
       "    </tr>\n",
       "    <tr>\n",
       "      <th>1</th>\n",
       "      <td>3</td>\n",
       "      <td>2</td>\n",
       "      <td>7.5</td>\n",
       "      <td>7.52</td>\n",
       "    </tr>\n",
       "    <tr>\n",
       "      <th>2</th>\n",
       "      <td>1</td>\n",
       "      <td>6</td>\n",
       "      <td>7.5</td>\n",
       "      <td>4.58</td>\n",
       "    </tr>\n",
       "    <tr>\n",
       "      <th>3</th>\n",
       "      <td>3</td>\n",
       "      <td>6</td>\n",
       "      <td>7.5</td>\n",
       "      <td>6.45</td>\n",
       "    </tr>\n",
       "    <tr>\n",
       "      <th>4</th>\n",
       "      <td>1</td>\n",
       "      <td>4</td>\n",
       "      <td>0.0</td>\n",
       "      <td>4.47</td>\n",
       "    </tr>\n",
       "    <tr>\n",
       "      <th>5</th>\n",
       "      <td>3</td>\n",
       "      <td>4</td>\n",
       "      <td>0.0</td>\n",
       "      <td>5.67</td>\n",
       "    </tr>\n",
       "    <tr>\n",
       "      <th>6</th>\n",
       "      <td>1</td>\n",
       "      <td>4</td>\n",
       "      <td>15.0</td>\n",
       "      <td>6.46</td>\n",
       "    </tr>\n",
       "    <tr>\n",
       "      <th>7</th>\n",
       "      <td>3</td>\n",
       "      <td>4</td>\n",
       "      <td>15.0</td>\n",
       "      <td>7.76</td>\n",
       "    </tr>\n",
       "    <tr>\n",
       "      <th>8</th>\n",
       "      <td>2</td>\n",
       "      <td>2</td>\n",
       "      <td>0.0</td>\n",
       "      <td>6.65</td>\n",
       "    </tr>\n",
       "    <tr>\n",
       "      <th>9</th>\n",
       "      <td>2</td>\n",
       "      <td>6</td>\n",
       "      <td>0.0</td>\n",
       "      <td>4.52</td>\n",
       "    </tr>\n",
       "    <tr>\n",
       "      <th>10</th>\n",
       "      <td>2</td>\n",
       "      <td>2</td>\n",
       "      <td>15.0</td>\n",
       "      <td>8.31</td>\n",
       "    </tr>\n",
       "    <tr>\n",
       "      <th>11</th>\n",
       "      <td>2</td>\n",
       "      <td>6</td>\n",
       "      <td>15.0</td>\n",
       "      <td>6.93</td>\n",
       "    </tr>\n",
       "    <tr>\n",
       "      <th>12</th>\n",
       "      <td>2</td>\n",
       "      <td>4</td>\n",
       "      <td>7.5</td>\n",
       "      <td>5.81</td>\n",
       "    </tr>\n",
       "    <tr>\n",
       "      <th>13</th>\n",
       "      <td>2</td>\n",
       "      <td>4</td>\n",
       "      <td>7.5</td>\n",
       "      <td>6.21</td>\n",
       "    </tr>\n",
       "    <tr>\n",
       "      <th>14</th>\n",
       "      <td>2</td>\n",
       "      <td>4</td>\n",
       "      <td>7.5</td>\n",
       "      <td>6.28</td>\n",
       "    </tr>\n",
       "    <tr>\n",
       "      <th>15</th>\n",
       "      <td>2</td>\n",
       "      <td>4</td>\n",
       "      <td>7.5</td>\n",
       "      <td>6.22</td>\n",
       "    </tr>\n",
       "    <tr>\n",
       "      <th>16</th>\n",
       "      <td>2</td>\n",
       "      <td>4</td>\n",
       "      <td>7.5</td>\n",
       "      <td>5.86</td>\n",
       "    </tr>\n",
       "  </tbody>\n",
       "</table>\n",
       "</div>"
      ],
      "text/plain": [
       "    X1  X2    X3  Observed\n",
       "0    1   2   7.5      7.22\n",
       "1    3   2   7.5      7.52\n",
       "2    1   6   7.5      4.58\n",
       "3    3   6   7.5      6.45\n",
       "4    1   4   0.0      4.47\n",
       "5    3   4   0.0      5.67\n",
       "6    1   4  15.0      6.46\n",
       "7    3   4  15.0      7.76\n",
       "8    2   2   0.0      6.65\n",
       "9    2   6   0.0      4.52\n",
       "10   2   2  15.0      8.31\n",
       "11   2   6  15.0      6.93\n",
       "12   2   4   7.5      5.81\n",
       "13   2   4   7.5      6.21\n",
       "14   2   4   7.5      6.28\n",
       "15   2   4   7.5      6.22\n",
       "16   2   4   7.5      5.86"
      ]
     },
     "execution_count": 38,
     "metadata": {},
     "output_type": "execute_result"
    }
   ],
   "source": [
    "data=pd.read_excel(r\"C:\\Users\\User\\Desktop\\Machine Learning Project\\Biodiesel-Yield-Using-ANN-main\\Xantham_gum_data.xlsx\")\n",
    "data"
   ]
  },
  {
   "cell_type": "code",
   "execution_count": 39,
   "id": "15f0a88c",
   "metadata": {},
   "outputs": [],
   "source": [
    "def get_preds(y_test, y_preds):\n",
    "    y_test=pd.DataFrame(y_test)\n",
    "    y_test.rename(columns={0:'Actual'}, inplace=True)\n",
    "    y_preds=pd.DataFrame(y_preds)\n",
    "    y_preds.rename(columns={0:'Predicted'}, inplace=True)\n",
    "    predictions=pd.concat([y_test, y_preds], axis=1)\n",
    "    return predictions    "
   ]
  },
  {
   "cell_type": "code",
   "execution_count": 40,
   "id": "30e155c8",
   "metadata": {},
   "outputs": [],
   "source": [
    "target=\"Observed\"\n",
    "X=data.drop(columns=[target])\n",
    "y=data[target]"
   ]
  },
  {
   "cell_type": "code",
   "execution_count": 41,
   "id": "e1f4db0e",
   "metadata": {},
   "outputs": [],
   "source": [
    "from sklearn.model_selection import train_test_split, cross_val_score,KFold, GridSearchCV\n",
    "from sklearn.svm import SVR\n",
    "from sklearn.preprocessing import StandardScaler\n",
    "from math import sqrt\n",
    "from sklearn.metrics import r2_score, mean_absolute_error,mean_squared_error"
   ]
  },
  {
   "cell_type": "code",
   "execution_count": 42,
   "id": "c3cc56bc",
   "metadata": {},
   "outputs": [],
   "source": [
    "X1=X.values\n",
    "y1=y.values.reshape(-1,1)\n",
    "X_train, X_test, y_train, y_test= train_test_split(X1, y1, test_size=0.3, random_state=100)\n",
    "sc=StandardScaler()\n",
    "X_train=sc.fit_transform(X_train)\n",
    "X_test=sc.transform(X_test)\n",
    "x_df=sc.transform(X1)\n",
    "sc_y=StandardScaler()\n",
    "y_train=sc_y.fit_transform(y_train)\n",
    "y_test=sc_y.transform(y_test)\n",
    "y_df=sc_y.transform(y1)"
   ]
  },
  {
   "cell_type": "code",
   "execution_count": null,
   "id": "33b47573",
   "metadata": {},
   "outputs": [],
   "source": []
  },
  {
   "cell_type": "code",
   "execution_count": 43,
   "id": "28915f0d",
   "metadata": {},
   "outputs": [],
   "source": [
    "from sklearn.kernel_ridge import KernelRidge"
   ]
  },
  {
   "cell_type": "code",
   "execution_count": 44,
   "id": "748fc22c",
   "metadata": {},
   "outputs": [],
   "source": [
    "kr=GridSearchCV(\n",
    "    KernelRidge(),\n",
    "    param_grid={\"kernel\":[\"rbf\",\"poly\"],\n",
    "                \"alpha\" : [1e-1,1e10,0.1,1e-2,1e-3], \n",
    "                \"gamma\":np.logspace(-3,2,5)},cv=3\n",
    ")"
   ]
  },
  {
   "cell_type": "code",
   "execution_count": 45,
   "id": "544f65a7",
   "metadata": {},
   "outputs": [
    {
     "name": "stdout",
     "output_type": "stream",
     "text": [
      "executed in 0.3630859851837158 seconds or 363.0859851837158 milliseconds\n"
     ]
    }
   ],
   "source": [
    "import time\n",
    "start_time=time.time()\n",
    "kr.fit(X_train,y_train)\n",
    "elapsed_time=time.time()-start_time\n",
    "print(f'executed in {elapsed_time} seconds or {elapsed_time*1000} milliseconds')"
   ]
  },
  {
   "cell_type": "code",
   "execution_count": 46,
   "id": "3f53c9f5",
   "metadata": {},
   "outputs": [
    {
     "data": {
      "text/html": [
       "<style>#sk-container-id-5 {color: black;background-color: white;}#sk-container-id-5 pre{padding: 0;}#sk-container-id-5 div.sk-toggleable {background-color: white;}#sk-container-id-5 label.sk-toggleable__label {cursor: pointer;display: block;width: 100%;margin-bottom: 0;padding: 0.3em;box-sizing: border-box;text-align: center;}#sk-container-id-5 label.sk-toggleable__label-arrow:before {content: \"▸\";float: left;margin-right: 0.25em;color: #696969;}#sk-container-id-5 label.sk-toggleable__label-arrow:hover:before {color: black;}#sk-container-id-5 div.sk-estimator:hover label.sk-toggleable__label-arrow:before {color: black;}#sk-container-id-5 div.sk-toggleable__content {max-height: 0;max-width: 0;overflow: hidden;text-align: left;background-color: #f0f8ff;}#sk-container-id-5 div.sk-toggleable__content pre {margin: 0.2em;color: black;border-radius: 0.25em;background-color: #f0f8ff;}#sk-container-id-5 input.sk-toggleable__control:checked~div.sk-toggleable__content {max-height: 200px;max-width: 100%;overflow: auto;}#sk-container-id-5 input.sk-toggleable__control:checked~label.sk-toggleable__label-arrow:before {content: \"▾\";}#sk-container-id-5 div.sk-estimator input.sk-toggleable__control:checked~label.sk-toggleable__label {background-color: #d4ebff;}#sk-container-id-5 div.sk-label input.sk-toggleable__control:checked~label.sk-toggleable__label {background-color: #d4ebff;}#sk-container-id-5 input.sk-hidden--visually {border: 0;clip: rect(1px 1px 1px 1px);clip: rect(1px, 1px, 1px, 1px);height: 1px;margin: -1px;overflow: hidden;padding: 0;position: absolute;width: 1px;}#sk-container-id-5 div.sk-estimator {font-family: monospace;background-color: #f0f8ff;border: 1px dotted black;border-radius: 0.25em;box-sizing: border-box;margin-bottom: 0.5em;}#sk-container-id-5 div.sk-estimator:hover {background-color: #d4ebff;}#sk-container-id-5 div.sk-parallel-item::after {content: \"\";width: 100%;border-bottom: 1px solid gray;flex-grow: 1;}#sk-container-id-5 div.sk-label:hover label.sk-toggleable__label {background-color: #d4ebff;}#sk-container-id-5 div.sk-serial::before {content: \"\";position: absolute;border-left: 1px solid gray;box-sizing: border-box;top: 0;bottom: 0;left: 50%;z-index: 0;}#sk-container-id-5 div.sk-serial {display: flex;flex-direction: column;align-items: center;background-color: white;padding-right: 0.2em;padding-left: 0.2em;position: relative;}#sk-container-id-5 div.sk-item {position: relative;z-index: 1;}#sk-container-id-5 div.sk-parallel {display: flex;align-items: stretch;justify-content: center;background-color: white;position: relative;}#sk-container-id-5 div.sk-item::before, #sk-container-id-5 div.sk-parallel-item::before {content: \"\";position: absolute;border-left: 1px solid gray;box-sizing: border-box;top: 0;bottom: 0;left: 50%;z-index: -1;}#sk-container-id-5 div.sk-parallel-item {display: flex;flex-direction: column;z-index: 1;position: relative;background-color: white;}#sk-container-id-5 div.sk-parallel-item:first-child::after {align-self: flex-end;width: 50%;}#sk-container-id-5 div.sk-parallel-item:last-child::after {align-self: flex-start;width: 50%;}#sk-container-id-5 div.sk-parallel-item:only-child::after {width: 0;}#sk-container-id-5 div.sk-dashed-wrapped {border: 1px dashed gray;margin: 0 0.4em 0.5em 0.4em;box-sizing: border-box;padding-bottom: 0.4em;background-color: white;}#sk-container-id-5 div.sk-label label {font-family: monospace;font-weight: bold;display: inline-block;line-height: 1.2em;}#sk-container-id-5 div.sk-label-container {text-align: center;}#sk-container-id-5 div.sk-container {/* jupyter's `normalize.less` sets `[hidden] { display: none; }` but bootstrap.min.css set `[hidden] { display: none !important; }` so we also need the `!important` here to be able to override the default hidden behavior on the sphinx rendered scikit-learn.org. See: https://github.com/scikit-learn/scikit-learn/issues/21755 */display: inline-block !important;position: relative;}#sk-container-id-5 div.sk-text-repr-fallback {display: none;}</style><div id=\"sk-container-id-5\" class=\"sk-top-container\"><div class=\"sk-text-repr-fallback\"><pre>KernelRidge(alpha=0.001, gamma=0.01778279410038923, kernel=&#x27;poly&#x27;)</pre><b>In a Jupyter environment, please rerun this cell to show the HTML representation or trust the notebook. <br />On GitHub, the HTML representation is unable to render, please try loading this page with nbviewer.org.</b></div><div class=\"sk-container\" hidden><div class=\"sk-item\"><div class=\"sk-estimator sk-toggleable\"><input class=\"sk-toggleable__control sk-hidden--visually\" id=\"sk-estimator-id-11\" type=\"checkbox\" checked><label for=\"sk-estimator-id-11\" class=\"sk-toggleable__label sk-toggleable__label-arrow\">KernelRidge</label><div class=\"sk-toggleable__content\"><pre>KernelRidge(alpha=0.001, gamma=0.01778279410038923, kernel=&#x27;poly&#x27;)</pre></div></div></div></div></div>"
      ],
      "text/plain": [
       "KernelRidge(alpha=0.001, gamma=0.01778279410038923, kernel='poly')"
      ]
     },
     "execution_count": 46,
     "metadata": {},
     "output_type": "execute_result"
    }
   ],
   "source": [
    "kr.best_estimator_"
   ]
  },
  {
   "cell_type": "code",
   "execution_count": 47,
   "id": "4adf58ab",
   "metadata": {},
   "outputs": [
    {
     "data": {
      "text/plain": [
       "{'alpha': 0.001, 'gamma': 0.01778279410038923, 'kernel': 'poly'}"
      ]
     },
     "execution_count": 47,
     "metadata": {},
     "output_type": "execute_result"
    }
   ],
   "source": [
    "kr.best_params_"
   ]
  },
  {
   "cell_type": "code",
   "execution_count": 48,
   "id": "e8ea1d2e",
   "metadata": {},
   "outputs": [],
   "source": [
    "pred_test=kr.predict(X_test)"
   ]
  },
  {
   "cell_type": "code",
   "execution_count": 49,
   "id": "fd0ce789",
   "metadata": {},
   "outputs": [
    {
     "data": {
      "text/plain": [
       "0.9292410342951153"
      ]
     },
     "execution_count": 49,
     "metadata": {},
     "output_type": "execute_result"
    }
   ],
   "source": [
    "r2_score(y_test,pred_test)"
   ]
  },
  {
   "cell_type": "code",
   "execution_count": 50,
   "id": "4ce19c43",
   "metadata": {
    "scrolled": true
   },
   "outputs": [
    {
     "data": {
      "text/html": [
       "<div>\n",
       "<style scoped>\n",
       "    .dataframe tbody tr th:only-of-type {\n",
       "        vertical-align: middle;\n",
       "    }\n",
       "\n",
       "    .dataframe tbody tr th {\n",
       "        vertical-align: top;\n",
       "    }\n",
       "\n",
       "    .dataframe thead th {\n",
       "        text-align: right;\n",
       "    }\n",
       "</style>\n",
       "<table border=\"1\" class=\"dataframe\">\n",
       "  <thead>\n",
       "    <tr style=\"text-align: right;\">\n",
       "      <th></th>\n",
       "      <th>Actual</th>\n",
       "      <th>Predicted</th>\n",
       "    </tr>\n",
       "  </thead>\n",
       "  <tbody>\n",
       "    <tr>\n",
       "      <th>0</th>\n",
       "      <td>6.28</td>\n",
       "      <td>6.110268</td>\n",
       "    </tr>\n",
       "    <tr>\n",
       "      <th>1</th>\n",
       "      <td>4.52</td>\n",
       "      <td>4.221241</td>\n",
       "    </tr>\n",
       "    <tr>\n",
       "      <th>2</th>\n",
       "      <td>6.93</td>\n",
       "      <td>6.653263</td>\n",
       "    </tr>\n",
       "    <tr>\n",
       "      <th>3</th>\n",
       "      <td>7.52</td>\n",
       "      <td>7.809661</td>\n",
       "    </tr>\n",
       "    <tr>\n",
       "      <th>4</th>\n",
       "      <td>5.81</td>\n",
       "      <td>6.110268</td>\n",
       "    </tr>\n",
       "    <tr>\n",
       "      <th>5</th>\n",
       "      <td>6.46</td>\n",
       "      <td>6.542372</td>\n",
       "    </tr>\n",
       "  </tbody>\n",
       "</table>\n",
       "</div>"
      ],
      "text/plain": [
       "   Actual  Predicted\n",
       "0    6.28   6.110268\n",
       "1    4.52   4.221241\n",
       "2    6.93   6.653263\n",
       "3    7.52   7.809661\n",
       "4    5.81   6.110268\n",
       "5    6.46   6.542372"
      ]
     },
     "execution_count": 50,
     "metadata": {},
     "output_type": "execute_result"
    }
   ],
   "source": [
    "y_test1 = sc_y.inverse_transform(y_test)\n",
    "pred1 = sc_y.inverse_transform(pred_test.reshape(-1,1))\n",
    "krr_predictions_test=get_preds(y_test1, pred1)\n",
    "krr_predictions_test"
   ]
  },
  {
   "cell_type": "code",
   "execution_count": 51,
   "id": "a33b0ee3",
   "metadata": {},
   "outputs": [
    {
     "data": {
      "text/plain": [
       "0.9769172788293619"
      ]
     },
     "execution_count": 51,
     "metadata": {},
     "output_type": "execute_result"
    }
   ],
   "source": [
    "corr_test=krr_predictions_test[\"Actual\"].corr(krr_predictions_test[\"Predicted\"])\n",
    "corr_test"
   ]
  },
  {
   "cell_type": "code",
   "execution_count": 52,
   "id": "1801e301",
   "metadata": {},
   "outputs": [
    {
     "name": "stdout",
     "output_type": "stream",
     "text": [
      "TEST Mean absolute error : 0.23625490012555414\n",
      "TEST Mean squared error : 0.06258316032305027\n",
      "TEST Root Mean squared error : 0.25016626535776215\n",
      "TEST R2 Score : 0.9292410342951154\n"
     ]
    }
   ],
   "source": [
    "print(\"TEST Mean absolute error :\", mean_absolute_error(y_test1,pred1))\n",
    "print(\"TEST Mean squared error :\",mean_squared_error(y_test1,pred1))\n",
    "print(\"TEST Root Mean squared error :\",sqrt(mean_squared_error(y_test1,pred1)))\n",
    "print(\"TEST R2 Score :\",r2_score(y_test1,pred1))"
   ]
  },
  {
   "cell_type": "code",
   "execution_count": null,
   "id": "077750c2",
   "metadata": {},
   "outputs": [],
   "source": []
  },
  {
   "cell_type": "code",
   "execution_count": null,
   "id": "016f8680",
   "metadata": {},
   "outputs": [],
   "source": []
  },
  {
   "cell_type": "code",
   "execution_count": 53,
   "id": "69ba8e36",
   "metadata": {},
   "outputs": [],
   "source": [
    "pred_train=kr.predict(X_train)"
   ]
  },
  {
   "cell_type": "code",
   "execution_count": 54,
   "id": "73c4fa34",
   "metadata": {},
   "outputs": [
    {
     "data": {
      "text/plain": [
       "0.9938209780360656"
      ]
     },
     "execution_count": 54,
     "metadata": {},
     "output_type": "execute_result"
    }
   ],
   "source": [
    "r2_score(y_train,pred_train)"
   ]
  },
  {
   "cell_type": "code",
   "execution_count": 55,
   "id": "2c234710",
   "metadata": {},
   "outputs": [
    {
     "data": {
      "text/html": [
       "<div>\n",
       "<style scoped>\n",
       "    .dataframe tbody tr th:only-of-type {\n",
       "        vertical-align: middle;\n",
       "    }\n",
       "\n",
       "    .dataframe tbody tr th {\n",
       "        vertical-align: top;\n",
       "    }\n",
       "\n",
       "    .dataframe thead th {\n",
       "        text-align: right;\n",
       "    }\n",
       "</style>\n",
       "<table border=\"1\" class=\"dataframe\">\n",
       "  <thead>\n",
       "    <tr style=\"text-align: right;\">\n",
       "      <th></th>\n",
       "      <th>Actual</th>\n",
       "      <th>Predicted</th>\n",
       "    </tr>\n",
       "  </thead>\n",
       "  <tbody>\n",
       "    <tr>\n",
       "      <th>0</th>\n",
       "      <td>6.22</td>\n",
       "      <td>6.110268</td>\n",
       "    </tr>\n",
       "    <tr>\n",
       "      <th>1</th>\n",
       "      <td>5.67</td>\n",
       "      <td>5.688543</td>\n",
       "    </tr>\n",
       "    <tr>\n",
       "      <th>2</th>\n",
       "      <td>4.58</td>\n",
       "      <td>4.576302</td>\n",
       "    </tr>\n",
       "    <tr>\n",
       "      <th>3</th>\n",
       "      <td>4.47</td>\n",
       "      <td>4.484201</td>\n",
       "    </tr>\n",
       "    <tr>\n",
       "      <th>4</th>\n",
       "      <td>8.31</td>\n",
       "      <td>8.304427</td>\n",
       "    </tr>\n",
       "    <tr>\n",
       "      <th>5</th>\n",
       "      <td>7.22</td>\n",
       "      <td>7.207691</td>\n",
       "    </tr>\n",
       "    <tr>\n",
       "      <th>6</th>\n",
       "      <td>6.21</td>\n",
       "      <td>6.110268</td>\n",
       "    </tr>\n",
       "    <tr>\n",
       "      <th>7</th>\n",
       "      <td>7.76</td>\n",
       "      <td>7.764298</td>\n",
       "    </tr>\n",
       "    <tr>\n",
       "      <th>8</th>\n",
       "      <td>6.45</td>\n",
       "      <td>6.419432</td>\n",
       "    </tr>\n",
       "    <tr>\n",
       "      <th>9</th>\n",
       "      <td>5.86</td>\n",
       "      <td>6.110268</td>\n",
       "    </tr>\n",
       "    <tr>\n",
       "      <th>10</th>\n",
       "      <td>6.65</td>\n",
       "      <td>6.624499</td>\n",
       "    </tr>\n",
       "  </tbody>\n",
       "</table>\n",
       "</div>"
      ],
      "text/plain": [
       "    Actual  Predicted\n",
       "0     6.22   6.110268\n",
       "1     5.67   5.688543\n",
       "2     4.58   4.576302\n",
       "3     4.47   4.484201\n",
       "4     8.31   8.304427\n",
       "5     7.22   7.207691\n",
       "6     6.21   6.110268\n",
       "7     7.76   7.764298\n",
       "8     6.45   6.419432\n",
       "9     5.86   6.110268\n",
       "10    6.65   6.624499"
      ]
     },
     "execution_count": 55,
     "metadata": {},
     "output_type": "execute_result"
    }
   ],
   "source": [
    "y_train1 = sc_y.inverse_transform(y_train)\n",
    "pred_train1 = sc_y.inverse_transform(pred_train.reshape(-1,1))\n",
    "krr_predictions_train=get_preds(y_train1, pred_train1)\n",
    "krr_predictions_train"
   ]
  },
  {
   "cell_type": "code",
   "execution_count": 56,
   "id": "900ed816",
   "metadata": {},
   "outputs": [
    {
     "data": {
      "text/plain": [
       "0.9969170657020869"
      ]
     },
     "execution_count": 56,
     "metadata": {},
     "output_type": "execute_result"
    }
   ],
   "source": [
    "corr_train=krr_predictions_train[\"Actual\"].corr(krr_predictions_train[\"Predicted\"])\n",
    "corr_train"
   ]
  },
  {
   "cell_type": "code",
   "execution_count": 57,
   "id": "e2745663",
   "metadata": {},
   "outputs": [
    {
     "name": "stdout",
     "output_type": "stream",
     "text": [
      "TRAIN Mean absolute error : 0.052220286230678266\n",
      "TRAIN Mean squared error : 0.007906053496224356\n",
      "TRAIN Root Mean squared error : 0.08891599122893674\n",
      "TRAIN R2 Score : 0.9938209780360656\n"
     ]
    }
   ],
   "source": [
    "print(\"TRAIN Mean absolute error :\", mean_absolute_error(y_train1,pred_train1))\n",
    "print(\"TRAIN Mean squared error :\",mean_squared_error(y_train1,pred_train1))\n",
    "print(\"TRAIN Root Mean squared error :\",sqrt(mean_squared_error(y_train1,pred_train1)))\n",
    "print(\"TRAIN R2 Score :\",r2_score(y_train1,pred_train1))"
   ]
  },
  {
   "cell_type": "code",
   "execution_count": null,
   "id": "f29a7d4a",
   "metadata": {},
   "outputs": [],
   "source": []
  },
  {
   "cell_type": "code",
   "execution_count": null,
   "id": "c1465055",
   "metadata": {},
   "outputs": [],
   "source": []
  },
  {
   "cell_type": "code",
   "execution_count": 58,
   "id": "fcb2c87b",
   "metadata": {},
   "outputs": [],
   "source": [
    "pred_df=kr.predict(x_df)"
   ]
  },
  {
   "cell_type": "code",
   "execution_count": 59,
   "id": "2b350c9f",
   "metadata": {},
   "outputs": [
    {
     "data": {
      "text/plain": [
       "0.9761533266297474"
      ]
     },
     "execution_count": 59,
     "metadata": {},
     "output_type": "execute_result"
    }
   ],
   "source": [
    "r2_score(y_df,pred_df)"
   ]
  },
  {
   "cell_type": "code",
   "execution_count": 60,
   "id": "18ad1b8d",
   "metadata": {},
   "outputs": [
    {
     "data": {
      "text/html": [
       "<div>\n",
       "<style scoped>\n",
       "    .dataframe tbody tr th:only-of-type {\n",
       "        vertical-align: middle;\n",
       "    }\n",
       "\n",
       "    .dataframe tbody tr th {\n",
       "        vertical-align: top;\n",
       "    }\n",
       "\n",
       "    .dataframe thead th {\n",
       "        text-align: right;\n",
       "    }\n",
       "</style>\n",
       "<table border=\"1\" class=\"dataframe\">\n",
       "  <thead>\n",
       "    <tr style=\"text-align: right;\">\n",
       "      <th></th>\n",
       "      <th>Actual</th>\n",
       "      <th>Predicted</th>\n",
       "    </tr>\n",
       "  </thead>\n",
       "  <tbody>\n",
       "    <tr>\n",
       "      <th>0</th>\n",
       "      <td>7.22</td>\n",
       "      <td>7.207691</td>\n",
       "    </tr>\n",
       "    <tr>\n",
       "      <th>1</th>\n",
       "      <td>7.52</td>\n",
       "      <td>7.809661</td>\n",
       "    </tr>\n",
       "    <tr>\n",
       "      <th>2</th>\n",
       "      <td>4.58</td>\n",
       "      <td>4.576302</td>\n",
       "    </tr>\n",
       "    <tr>\n",
       "      <th>3</th>\n",
       "      <td>6.45</td>\n",
       "      <td>6.419432</td>\n",
       "    </tr>\n",
       "    <tr>\n",
       "      <th>4</th>\n",
       "      <td>4.47</td>\n",
       "      <td>4.484201</td>\n",
       "    </tr>\n",
       "    <tr>\n",
       "      <th>5</th>\n",
       "      <td>5.67</td>\n",
       "      <td>5.688543</td>\n",
       "    </tr>\n",
       "    <tr>\n",
       "      <th>6</th>\n",
       "      <td>6.46</td>\n",
       "      <td>6.542372</td>\n",
       "    </tr>\n",
       "    <tr>\n",
       "      <th>7</th>\n",
       "      <td>7.76</td>\n",
       "      <td>7.764298</td>\n",
       "    </tr>\n",
       "    <tr>\n",
       "      <th>8</th>\n",
       "      <td>6.65</td>\n",
       "      <td>6.624499</td>\n",
       "    </tr>\n",
       "    <tr>\n",
       "      <th>9</th>\n",
       "      <td>4.52</td>\n",
       "      <td>4.221241</td>\n",
       "    </tr>\n",
       "    <tr>\n",
       "      <th>10</th>\n",
       "      <td>8.31</td>\n",
       "      <td>8.304427</td>\n",
       "    </tr>\n",
       "    <tr>\n",
       "      <th>11</th>\n",
       "      <td>6.93</td>\n",
       "      <td>6.653263</td>\n",
       "    </tr>\n",
       "    <tr>\n",
       "      <th>12</th>\n",
       "      <td>5.81</td>\n",
       "      <td>6.110268</td>\n",
       "    </tr>\n",
       "    <tr>\n",
       "      <th>13</th>\n",
       "      <td>6.21</td>\n",
       "      <td>6.110268</td>\n",
       "    </tr>\n",
       "    <tr>\n",
       "      <th>14</th>\n",
       "      <td>6.28</td>\n",
       "      <td>6.110268</td>\n",
       "    </tr>\n",
       "    <tr>\n",
       "      <th>15</th>\n",
       "      <td>6.22</td>\n",
       "      <td>6.110268</td>\n",
       "    </tr>\n",
       "    <tr>\n",
       "      <th>16</th>\n",
       "      <td>5.86</td>\n",
       "      <td>6.110268</td>\n",
       "    </tr>\n",
       "  </tbody>\n",
       "</table>\n",
       "</div>"
      ],
      "text/plain": [
       "    Actual  Predicted\n",
       "0     7.22   7.207691\n",
       "1     7.52   7.809661\n",
       "2     4.58   4.576302\n",
       "3     6.45   6.419432\n",
       "4     4.47   4.484201\n",
       "5     5.67   5.688543\n",
       "6     6.46   6.542372\n",
       "7     7.76   7.764298\n",
       "8     6.65   6.624499\n",
       "9     4.52   4.221241\n",
       "10    8.31   8.304427\n",
       "11    6.93   6.653263\n",
       "12    5.81   6.110268\n",
       "13    6.21   6.110268\n",
       "14    6.28   6.110268\n",
       "15    6.22   6.110268\n",
       "16    5.86   6.110268"
      ]
     },
     "execution_count": 60,
     "metadata": {},
     "output_type": "execute_result"
    }
   ],
   "source": [
    "y_df1 = sc_y.inverse_transform(y_df)\n",
    "pred_df1 = sc_y.inverse_transform(pred_df.reshape(-1,1))\n",
    "krr_predictions_df=get_preds(y_df1, pred_df1)\n",
    "krr_predictions_df"
   ]
  },
  {
   "cell_type": "code",
   "execution_count": 61,
   "id": "8c508bd3",
   "metadata": {},
   "outputs": [
    {
     "name": "stdout",
     "output_type": "stream",
     "text": [
      "DATA Mean absolute error : 0.11717367937004622\n",
      "DATA Mean squared error : 0.027203855905692326\n",
      "DATA Root Mean squared error : 0.16493591454165563\n",
      "DATA R2 Score : 0.9761533266297474\n"
     ]
    }
   ],
   "source": [
    "print(\"DATA Mean absolute error :\", mean_absolute_error(y_df1,pred_df1))\n",
    "print(\"DATA Mean squared error :\",mean_squared_error(y_df1,pred_df1))\n",
    "print(\"DATA Root Mean squared error :\",sqrt(mean_squared_error(y_df1,pred_df1)))\n",
    "print(\"DATA R2 Score :\",r2_score(y_df1,pred_df1))"
   ]
  },
  {
   "cell_type": "code",
   "execution_count": null,
   "id": "66ae3cba",
   "metadata": {},
   "outputs": [],
   "source": []
  },
  {
   "cell_type": "code",
   "execution_count": null,
   "id": "33ed396b",
   "metadata": {},
   "outputs": [],
   "source": []
  },
  {
   "cell_type": "code",
   "execution_count": 62,
   "id": "ef73893d",
   "metadata": {},
   "outputs": [],
   "source": [
    "kr_rbf=GridSearchCV(\n",
    "    KernelRidge(kernel=\"rbf\"),\n",
    "    param_grid={\n",
    "                \"alpha\" : [1e-1,1e10,0.1,1e-2,1e-3], \n",
    "                \"gamma\":np.logspace(-3,2,5)},cv=3\n",
    ")"
   ]
  },
  {
   "cell_type": "code",
   "execution_count": 63,
   "id": "ebdf1b8e",
   "metadata": {},
   "outputs": [
    {
     "data": {
      "text/html": [
       "<style>#sk-container-id-6 {color: black;background-color: white;}#sk-container-id-6 pre{padding: 0;}#sk-container-id-6 div.sk-toggleable {background-color: white;}#sk-container-id-6 label.sk-toggleable__label {cursor: pointer;display: block;width: 100%;margin-bottom: 0;padding: 0.3em;box-sizing: border-box;text-align: center;}#sk-container-id-6 label.sk-toggleable__label-arrow:before {content: \"▸\";float: left;margin-right: 0.25em;color: #696969;}#sk-container-id-6 label.sk-toggleable__label-arrow:hover:before {color: black;}#sk-container-id-6 div.sk-estimator:hover label.sk-toggleable__label-arrow:before {color: black;}#sk-container-id-6 div.sk-toggleable__content {max-height: 0;max-width: 0;overflow: hidden;text-align: left;background-color: #f0f8ff;}#sk-container-id-6 div.sk-toggleable__content pre {margin: 0.2em;color: black;border-radius: 0.25em;background-color: #f0f8ff;}#sk-container-id-6 input.sk-toggleable__control:checked~div.sk-toggleable__content {max-height: 200px;max-width: 100%;overflow: auto;}#sk-container-id-6 input.sk-toggleable__control:checked~label.sk-toggleable__label-arrow:before {content: \"▾\";}#sk-container-id-6 div.sk-estimator input.sk-toggleable__control:checked~label.sk-toggleable__label {background-color: #d4ebff;}#sk-container-id-6 div.sk-label input.sk-toggleable__control:checked~label.sk-toggleable__label {background-color: #d4ebff;}#sk-container-id-6 input.sk-hidden--visually {border: 0;clip: rect(1px 1px 1px 1px);clip: rect(1px, 1px, 1px, 1px);height: 1px;margin: -1px;overflow: hidden;padding: 0;position: absolute;width: 1px;}#sk-container-id-6 div.sk-estimator {font-family: monospace;background-color: #f0f8ff;border: 1px dotted black;border-radius: 0.25em;box-sizing: border-box;margin-bottom: 0.5em;}#sk-container-id-6 div.sk-estimator:hover {background-color: #d4ebff;}#sk-container-id-6 div.sk-parallel-item::after {content: \"\";width: 100%;border-bottom: 1px solid gray;flex-grow: 1;}#sk-container-id-6 div.sk-label:hover label.sk-toggleable__label {background-color: #d4ebff;}#sk-container-id-6 div.sk-serial::before {content: \"\";position: absolute;border-left: 1px solid gray;box-sizing: border-box;top: 0;bottom: 0;left: 50%;z-index: 0;}#sk-container-id-6 div.sk-serial {display: flex;flex-direction: column;align-items: center;background-color: white;padding-right: 0.2em;padding-left: 0.2em;position: relative;}#sk-container-id-6 div.sk-item {position: relative;z-index: 1;}#sk-container-id-6 div.sk-parallel {display: flex;align-items: stretch;justify-content: center;background-color: white;position: relative;}#sk-container-id-6 div.sk-item::before, #sk-container-id-6 div.sk-parallel-item::before {content: \"\";position: absolute;border-left: 1px solid gray;box-sizing: border-box;top: 0;bottom: 0;left: 50%;z-index: -1;}#sk-container-id-6 div.sk-parallel-item {display: flex;flex-direction: column;z-index: 1;position: relative;background-color: white;}#sk-container-id-6 div.sk-parallel-item:first-child::after {align-self: flex-end;width: 50%;}#sk-container-id-6 div.sk-parallel-item:last-child::after {align-self: flex-start;width: 50%;}#sk-container-id-6 div.sk-parallel-item:only-child::after {width: 0;}#sk-container-id-6 div.sk-dashed-wrapped {border: 1px dashed gray;margin: 0 0.4em 0.5em 0.4em;box-sizing: border-box;padding-bottom: 0.4em;background-color: white;}#sk-container-id-6 div.sk-label label {font-family: monospace;font-weight: bold;display: inline-block;line-height: 1.2em;}#sk-container-id-6 div.sk-label-container {text-align: center;}#sk-container-id-6 div.sk-container {/* jupyter's `normalize.less` sets `[hidden] { display: none; }` but bootstrap.min.css set `[hidden] { display: none !important; }` so we also need the `!important` here to be able to override the default hidden behavior on the sphinx rendered scikit-learn.org. See: https://github.com/scikit-learn/scikit-learn/issues/21755 */display: inline-block !important;position: relative;}#sk-container-id-6 div.sk-text-repr-fallback {display: none;}</style><div id=\"sk-container-id-6\" class=\"sk-top-container\"><div class=\"sk-text-repr-fallback\"><pre>GridSearchCV(cv=3, estimator=KernelRidge(kernel=&#x27;rbf&#x27;),\n",
       "             param_grid={&#x27;alpha&#x27;: [0.1, 10000000000.0, 0.1, 0.01, 0.001],\n",
       "                         &#x27;gamma&#x27;: array([1.00000000e-03, 1.77827941e-02, 3.16227766e-01, 5.62341325e+00,\n",
       "       1.00000000e+02])})</pre><b>In a Jupyter environment, please rerun this cell to show the HTML representation or trust the notebook. <br />On GitHub, the HTML representation is unable to render, please try loading this page with nbviewer.org.</b></div><div class=\"sk-container\" hidden><div class=\"sk-item sk-dashed-wrapped\"><div class=\"sk-label-container\"><div class=\"sk-label sk-toggleable\"><input class=\"sk-toggleable__control sk-hidden--visually\" id=\"sk-estimator-id-12\" type=\"checkbox\" ><label for=\"sk-estimator-id-12\" class=\"sk-toggleable__label sk-toggleable__label-arrow\">GridSearchCV</label><div class=\"sk-toggleable__content\"><pre>GridSearchCV(cv=3, estimator=KernelRidge(kernel=&#x27;rbf&#x27;),\n",
       "             param_grid={&#x27;alpha&#x27;: [0.1, 10000000000.0, 0.1, 0.01, 0.001],\n",
       "                         &#x27;gamma&#x27;: array([1.00000000e-03, 1.77827941e-02, 3.16227766e-01, 5.62341325e+00,\n",
       "       1.00000000e+02])})</pre></div></div></div><div class=\"sk-parallel\"><div class=\"sk-parallel-item\"><div class=\"sk-item\"><div class=\"sk-label-container\"><div class=\"sk-label sk-toggleable\"><input class=\"sk-toggleable__control sk-hidden--visually\" id=\"sk-estimator-id-13\" type=\"checkbox\" ><label for=\"sk-estimator-id-13\" class=\"sk-toggleable__label sk-toggleable__label-arrow\">estimator: KernelRidge</label><div class=\"sk-toggleable__content\"><pre>KernelRidge(kernel=&#x27;rbf&#x27;)</pre></div></div></div><div class=\"sk-serial\"><div class=\"sk-item\"><div class=\"sk-estimator sk-toggleable\"><input class=\"sk-toggleable__control sk-hidden--visually\" id=\"sk-estimator-id-14\" type=\"checkbox\" ><label for=\"sk-estimator-id-14\" class=\"sk-toggleable__label sk-toggleable__label-arrow\">KernelRidge</label><div class=\"sk-toggleable__content\"><pre>KernelRidge(kernel=&#x27;rbf&#x27;)</pre></div></div></div></div></div></div></div></div></div></div>"
      ],
      "text/plain": [
       "GridSearchCV(cv=3, estimator=KernelRidge(kernel='rbf'),\n",
       "             param_grid={'alpha': [0.1, 10000000000.0, 0.1, 0.01, 0.001],\n",
       "                         'gamma': array([1.00000000e-03, 1.77827941e-02, 3.16227766e-01, 5.62341325e+00,\n",
       "       1.00000000e+02])})"
      ]
     },
     "execution_count": 63,
     "metadata": {},
     "output_type": "execute_result"
    }
   ],
   "source": [
    "kr_rbf.fit(X_train,y_train)"
   ]
  },
  {
   "cell_type": "code",
   "execution_count": 64,
   "id": "1122b802",
   "metadata": {},
   "outputs": [
    {
     "name": "stdout",
     "output_type": "stream",
     "text": [
      "TRAIN RBF Mean absolute error : 0.05110678182265229\n",
      "TRAIN RBF Mean squared error : 0.0064856507542352506\n",
      "TRAIN RBF Root Mean squared error : 0.0805335380710127\n",
      "TRAIN RBF R2 Score : 0.9935143492457648\n",
      "\n",
      "\n",
      "TEST RBF Mean absolute error : 0.2179852237042661\n",
      "TEST RBF Mean squared error : 0.05333310054741599\n",
      "TEST RBF Root Mean squared error : 0.2309396036790052\n",
      "TEST RBF R2 Score : 0.9228455769825398\n"
     ]
    }
   ],
   "source": [
    "pred_rbf_train=kr_rbf.predict(X_train)\n",
    "pred_rbf_test=kr_rbf.predict(X_test)\n",
    "print(\"TRAIN RBF Mean absolute error :\", mean_absolute_error(y_train,pred_rbf_train))\n",
    "print(\"TRAIN RBF Mean squared error :\",mean_squared_error(y_train,pred_rbf_train))\n",
    "print(\"TRAIN RBF Root Mean squared error :\",sqrt(mean_squared_error(y_train,pred_rbf_train)))\n",
    "print(\"TRAIN RBF R2 Score :\",r2_score(y_train,pred_rbf_train))\n",
    "print(\"\\n\")\n",
    "print(\"TEST RBF Mean absolute error :\", mean_absolute_error(y_test,pred_rbf_test))\n",
    "print(\"TEST RBF Mean squared error :\",mean_squared_error(y_test,pred_rbf_test))\n",
    "print(\"TEST RBF Root Mean squared error :\",sqrt(mean_squared_error(y_test,pred_rbf_test)))\n",
    "print(\"TEST RBF R2 Score :\",r2_score(y_test,pred_rbf_test))"
   ]
  },
  {
   "cell_type": "code",
   "execution_count": null,
   "id": "6bb12f7c",
   "metadata": {},
   "outputs": [],
   "source": []
  },
  {
   "cell_type": "code",
   "execution_count": 65,
   "id": "ed5299a3",
   "metadata": {},
   "outputs": [],
   "source": [
    "kr_lin=GridSearchCV(\n",
    "    KernelRidge(kernel=\"linear\"),\n",
    "    param_grid={\n",
    "                \"alpha\" : [1e-1,1e10,0.1,1e-2,1e-3], \n",
    "                \"gamma\":np.logspace(-3,2,5)},cv=3\n",
    ")"
   ]
  },
  {
   "cell_type": "code",
   "execution_count": 66,
   "id": "23d9a0ae",
   "metadata": {},
   "outputs": [
    {
     "data": {
      "text/html": [
       "<style>#sk-container-id-7 {color: black;background-color: white;}#sk-container-id-7 pre{padding: 0;}#sk-container-id-7 div.sk-toggleable {background-color: white;}#sk-container-id-7 label.sk-toggleable__label {cursor: pointer;display: block;width: 100%;margin-bottom: 0;padding: 0.3em;box-sizing: border-box;text-align: center;}#sk-container-id-7 label.sk-toggleable__label-arrow:before {content: \"▸\";float: left;margin-right: 0.25em;color: #696969;}#sk-container-id-7 label.sk-toggleable__label-arrow:hover:before {color: black;}#sk-container-id-7 div.sk-estimator:hover label.sk-toggleable__label-arrow:before {color: black;}#sk-container-id-7 div.sk-toggleable__content {max-height: 0;max-width: 0;overflow: hidden;text-align: left;background-color: #f0f8ff;}#sk-container-id-7 div.sk-toggleable__content pre {margin: 0.2em;color: black;border-radius: 0.25em;background-color: #f0f8ff;}#sk-container-id-7 input.sk-toggleable__control:checked~div.sk-toggleable__content {max-height: 200px;max-width: 100%;overflow: auto;}#sk-container-id-7 input.sk-toggleable__control:checked~label.sk-toggleable__label-arrow:before {content: \"▾\";}#sk-container-id-7 div.sk-estimator input.sk-toggleable__control:checked~label.sk-toggleable__label {background-color: #d4ebff;}#sk-container-id-7 div.sk-label input.sk-toggleable__control:checked~label.sk-toggleable__label {background-color: #d4ebff;}#sk-container-id-7 input.sk-hidden--visually {border: 0;clip: rect(1px 1px 1px 1px);clip: rect(1px, 1px, 1px, 1px);height: 1px;margin: -1px;overflow: hidden;padding: 0;position: absolute;width: 1px;}#sk-container-id-7 div.sk-estimator {font-family: monospace;background-color: #f0f8ff;border: 1px dotted black;border-radius: 0.25em;box-sizing: border-box;margin-bottom: 0.5em;}#sk-container-id-7 div.sk-estimator:hover {background-color: #d4ebff;}#sk-container-id-7 div.sk-parallel-item::after {content: \"\";width: 100%;border-bottom: 1px solid gray;flex-grow: 1;}#sk-container-id-7 div.sk-label:hover label.sk-toggleable__label {background-color: #d4ebff;}#sk-container-id-7 div.sk-serial::before {content: \"\";position: absolute;border-left: 1px solid gray;box-sizing: border-box;top: 0;bottom: 0;left: 50%;z-index: 0;}#sk-container-id-7 div.sk-serial {display: flex;flex-direction: column;align-items: center;background-color: white;padding-right: 0.2em;padding-left: 0.2em;position: relative;}#sk-container-id-7 div.sk-item {position: relative;z-index: 1;}#sk-container-id-7 div.sk-parallel {display: flex;align-items: stretch;justify-content: center;background-color: white;position: relative;}#sk-container-id-7 div.sk-item::before, #sk-container-id-7 div.sk-parallel-item::before {content: \"\";position: absolute;border-left: 1px solid gray;box-sizing: border-box;top: 0;bottom: 0;left: 50%;z-index: -1;}#sk-container-id-7 div.sk-parallel-item {display: flex;flex-direction: column;z-index: 1;position: relative;background-color: white;}#sk-container-id-7 div.sk-parallel-item:first-child::after {align-self: flex-end;width: 50%;}#sk-container-id-7 div.sk-parallel-item:last-child::after {align-self: flex-start;width: 50%;}#sk-container-id-7 div.sk-parallel-item:only-child::after {width: 0;}#sk-container-id-7 div.sk-dashed-wrapped {border: 1px dashed gray;margin: 0 0.4em 0.5em 0.4em;box-sizing: border-box;padding-bottom: 0.4em;background-color: white;}#sk-container-id-7 div.sk-label label {font-family: monospace;font-weight: bold;display: inline-block;line-height: 1.2em;}#sk-container-id-7 div.sk-label-container {text-align: center;}#sk-container-id-7 div.sk-container {/* jupyter's `normalize.less` sets `[hidden] { display: none; }` but bootstrap.min.css set `[hidden] { display: none !important; }` so we also need the `!important` here to be able to override the default hidden behavior on the sphinx rendered scikit-learn.org. See: https://github.com/scikit-learn/scikit-learn/issues/21755 */display: inline-block !important;position: relative;}#sk-container-id-7 div.sk-text-repr-fallback {display: none;}</style><div id=\"sk-container-id-7\" class=\"sk-top-container\"><div class=\"sk-text-repr-fallback\"><pre>GridSearchCV(cv=3, estimator=KernelRidge(),\n",
       "             param_grid={&#x27;alpha&#x27;: [0.1, 10000000000.0, 0.1, 0.01, 0.001],\n",
       "                         &#x27;gamma&#x27;: array([1.00000000e-03, 1.77827941e-02, 3.16227766e-01, 5.62341325e+00,\n",
       "       1.00000000e+02])})</pre><b>In a Jupyter environment, please rerun this cell to show the HTML representation or trust the notebook. <br />On GitHub, the HTML representation is unable to render, please try loading this page with nbviewer.org.</b></div><div class=\"sk-container\" hidden><div class=\"sk-item sk-dashed-wrapped\"><div class=\"sk-label-container\"><div class=\"sk-label sk-toggleable\"><input class=\"sk-toggleable__control sk-hidden--visually\" id=\"sk-estimator-id-15\" type=\"checkbox\" ><label for=\"sk-estimator-id-15\" class=\"sk-toggleable__label sk-toggleable__label-arrow\">GridSearchCV</label><div class=\"sk-toggleable__content\"><pre>GridSearchCV(cv=3, estimator=KernelRidge(),\n",
       "             param_grid={&#x27;alpha&#x27;: [0.1, 10000000000.0, 0.1, 0.01, 0.001],\n",
       "                         &#x27;gamma&#x27;: array([1.00000000e-03, 1.77827941e-02, 3.16227766e-01, 5.62341325e+00,\n",
       "       1.00000000e+02])})</pre></div></div></div><div class=\"sk-parallel\"><div class=\"sk-parallel-item\"><div class=\"sk-item\"><div class=\"sk-label-container\"><div class=\"sk-label sk-toggleable\"><input class=\"sk-toggleable__control sk-hidden--visually\" id=\"sk-estimator-id-16\" type=\"checkbox\" ><label for=\"sk-estimator-id-16\" class=\"sk-toggleable__label sk-toggleable__label-arrow\">estimator: KernelRidge</label><div class=\"sk-toggleable__content\"><pre>KernelRidge()</pre></div></div></div><div class=\"sk-serial\"><div class=\"sk-item\"><div class=\"sk-estimator sk-toggleable\"><input class=\"sk-toggleable__control sk-hidden--visually\" id=\"sk-estimator-id-17\" type=\"checkbox\" ><label for=\"sk-estimator-id-17\" class=\"sk-toggleable__label sk-toggleable__label-arrow\">KernelRidge</label><div class=\"sk-toggleable__content\"><pre>KernelRidge()</pre></div></div></div></div></div></div></div></div></div></div>"
      ],
      "text/plain": [
       "GridSearchCV(cv=3, estimator=KernelRidge(),\n",
       "             param_grid={'alpha': [0.1, 10000000000.0, 0.1, 0.01, 0.001],\n",
       "                         'gamma': array([1.00000000e-03, 1.77827941e-02, 3.16227766e-01, 5.62341325e+00,\n",
       "       1.00000000e+02])})"
      ]
     },
     "execution_count": 66,
     "metadata": {},
     "output_type": "execute_result"
    }
   ],
   "source": [
    "kr_lin.fit(X_train,y_train)"
   ]
  },
  {
   "cell_type": "code",
   "execution_count": 67,
   "id": "f31c6b0d",
   "metadata": {},
   "outputs": [
    {
     "name": "stdout",
     "output_type": "stream",
     "text": [
      "TRAIN LIN Mean absolute error : 0.21240405417046668\n",
      "TRAIN LIN Mean squared error : 0.0711892587074692\n",
      "TRAIN LIN Root Mean squared error : 0.26681315317553067\n",
      "TRAIN LIN R2 Score : 0.9288107412925308\n",
      "\n",
      "\n",
      "TEST LIN Mean absolute error : 0.3261399785683306\n",
      "TEST LIN Mean squared error : 0.1464364053707173\n",
      "TEST LIN Root Mean squared error : 0.3826700999173012\n",
      "TEST LIN R2 Score : 0.7881575185173437\n"
     ]
    }
   ],
   "source": [
    "pred_lin_train=kr_lin.predict(X_train)\n",
    "pred_lin_test=kr_lin.predict(X_test)\n",
    "print(\"TRAIN LIN Mean absolute error :\", mean_absolute_error(y_train,pred_lin_train))\n",
    "print(\"TRAIN LIN Mean squared error :\",mean_squared_error(y_train,pred_lin_train))\n",
    "print(\"TRAIN LIN Root Mean squared error :\",sqrt(mean_squared_error(y_train,pred_lin_train)))\n",
    "print(\"TRAIN LIN R2 Score :\",r2_score(y_train,pred_lin_train))\n",
    "print(\"\\n\")\n",
    "print(\"TEST LIN Mean absolute error :\", mean_absolute_error(y_test,pred_lin_test))\n",
    "print(\"TEST LIN Mean squared error :\",mean_squared_error(y_test,pred_lin_test))\n",
    "print(\"TEST LIN Root Mean squared error :\",sqrt(mean_squared_error(y_test,pred_lin_test)))\n",
    "print(\"TEST LIN R2 Score :\",r2_score(y_test,pred_lin_test))"
   ]
  },
  {
   "cell_type": "code",
   "execution_count": null,
   "id": "8f93f3e1",
   "metadata": {},
   "outputs": [],
   "source": []
  },
  {
   "cell_type": "code",
   "execution_count": null,
   "id": "f2740113",
   "metadata": {},
   "outputs": [],
   "source": []
  }
 ],
 "metadata": {
  "kernelspec": {
   "display_name": "Python 3 (ipykernel)",
   "language": "python",
   "name": "python3"
  },
  "language_info": {
   "codemirror_mode": {
    "name": "ipython",
    "version": 3
   },
   "file_extension": ".py",
   "mimetype": "text/x-python",
   "name": "python",
   "nbconvert_exporter": "python",
   "pygments_lexer": "ipython3",
   "version": "3.9.7"
  }
 },
 "nbformat": 4,
 "nbformat_minor": 5
}
