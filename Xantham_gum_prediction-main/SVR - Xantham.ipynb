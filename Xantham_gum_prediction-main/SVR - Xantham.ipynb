{
 "cells": [
  {
   "cell_type": "code",
   "execution_count": 1,
   "id": "48c96267",
   "metadata": {},
   "outputs": [],
   "source": [
    "import pandas as pd\n",
    "import numpy as np\n",
    "import matplotlib.pyplot as plt\n",
    "import seaborn as sns"
   ]
  },
  {
   "cell_type": "code",
   "execution_count": 2,
   "id": "18be30dc",
   "metadata": {},
   "outputs": [
    {
     "data": {
      "text/html": [
       "<div>\n",
       "<style scoped>\n",
       "    .dataframe tbody tr th:only-of-type {\n",
       "        vertical-align: middle;\n",
       "    }\n",
       "\n",
       "    .dataframe tbody tr th {\n",
       "        vertical-align: top;\n",
       "    }\n",
       "\n",
       "    .dataframe thead th {\n",
       "        text-align: right;\n",
       "    }\n",
       "</style>\n",
       "<table border=\"1\" class=\"dataframe\">\n",
       "  <thead>\n",
       "    <tr style=\"text-align: right;\">\n",
       "      <th></th>\n",
       "      <th>X1</th>\n",
       "      <th>X2</th>\n",
       "      <th>X3</th>\n",
       "      <th>Observed</th>\n",
       "    </tr>\n",
       "  </thead>\n",
       "  <tbody>\n",
       "    <tr>\n",
       "      <th>0</th>\n",
       "      <td>1</td>\n",
       "      <td>2</td>\n",
       "      <td>7.5</td>\n",
       "      <td>7.22</td>\n",
       "    </tr>\n",
       "    <tr>\n",
       "      <th>1</th>\n",
       "      <td>3</td>\n",
       "      <td>2</td>\n",
       "      <td>7.5</td>\n",
       "      <td>7.52</td>\n",
       "    </tr>\n",
       "    <tr>\n",
       "      <th>2</th>\n",
       "      <td>1</td>\n",
       "      <td>6</td>\n",
       "      <td>7.5</td>\n",
       "      <td>4.58</td>\n",
       "    </tr>\n",
       "    <tr>\n",
       "      <th>3</th>\n",
       "      <td>3</td>\n",
       "      <td>6</td>\n",
       "      <td>7.5</td>\n",
       "      <td>6.45</td>\n",
       "    </tr>\n",
       "    <tr>\n",
       "      <th>4</th>\n",
       "      <td>1</td>\n",
       "      <td>4</td>\n",
       "      <td>0.0</td>\n",
       "      <td>4.47</td>\n",
       "    </tr>\n",
       "  </tbody>\n",
       "</table>\n",
       "</div>"
      ],
      "text/plain": [
       "   X1  X2   X3  Observed\n",
       "0   1   2  7.5      7.22\n",
       "1   3   2  7.5      7.52\n",
       "2   1   6  7.5      4.58\n",
       "3   3   6  7.5      6.45\n",
       "4   1   4  0.0      4.47"
      ]
     },
     "execution_count": 2,
     "metadata": {},
     "output_type": "execute_result"
    }
   ],
   "source": [
    "data=pd.read_excel(r\"C:\\Users\\User\\Desktop\\Machine Learning Project\\Biodiesel-Yield-Using-ANN-main\\Xantham_gum_data.xlsx\")\n",
    "data.head()"
   ]
  },
  {
   "cell_type": "code",
   "execution_count": 3,
   "id": "4dde65b9",
   "metadata": {},
   "outputs": [
    {
     "data": {
      "text/html": [
       "<div>\n",
       "<style scoped>\n",
       "    .dataframe tbody tr th:only-of-type {\n",
       "        vertical-align: middle;\n",
       "    }\n",
       "\n",
       "    .dataframe tbody tr th {\n",
       "        vertical-align: top;\n",
       "    }\n",
       "\n",
       "    .dataframe thead th {\n",
       "        text-align: right;\n",
       "    }\n",
       "</style>\n",
       "<table border=\"1\" class=\"dataframe\">\n",
       "  <thead>\n",
       "    <tr style=\"text-align: right;\">\n",
       "      <th></th>\n",
       "      <th>X1</th>\n",
       "      <th>X2</th>\n",
       "      <th>X3</th>\n",
       "      <th>Observed</th>\n",
       "    </tr>\n",
       "  </thead>\n",
       "  <tbody>\n",
       "    <tr>\n",
       "      <th>count</th>\n",
       "      <td>17.000000</td>\n",
       "      <td>17.000000</td>\n",
       "      <td>17.000000</td>\n",
       "      <td>17.000000</td>\n",
       "    </tr>\n",
       "    <tr>\n",
       "      <th>mean</th>\n",
       "      <td>2.000000</td>\n",
       "      <td>4.000000</td>\n",
       "      <td>7.500000</td>\n",
       "      <td>6.289412</td>\n",
       "    </tr>\n",
       "    <tr>\n",
       "      <th>std</th>\n",
       "      <td>0.707107</td>\n",
       "      <td>1.414214</td>\n",
       "      <td>5.303301</td>\n",
       "      <td>1.100945</td>\n",
       "    </tr>\n",
       "    <tr>\n",
       "      <th>min</th>\n",
       "      <td>1.000000</td>\n",
       "      <td>2.000000</td>\n",
       "      <td>0.000000</td>\n",
       "      <td>4.470000</td>\n",
       "    </tr>\n",
       "    <tr>\n",
       "      <th>25%</th>\n",
       "      <td>2.000000</td>\n",
       "      <td>4.000000</td>\n",
       "      <td>7.500000</td>\n",
       "      <td>5.810000</td>\n",
       "    </tr>\n",
       "    <tr>\n",
       "      <th>50%</th>\n",
       "      <td>2.000000</td>\n",
       "      <td>4.000000</td>\n",
       "      <td>7.500000</td>\n",
       "      <td>6.280000</td>\n",
       "    </tr>\n",
       "    <tr>\n",
       "      <th>75%</th>\n",
       "      <td>2.000000</td>\n",
       "      <td>4.000000</td>\n",
       "      <td>7.500000</td>\n",
       "      <td>6.930000</td>\n",
       "    </tr>\n",
       "    <tr>\n",
       "      <th>max</th>\n",
       "      <td>3.000000</td>\n",
       "      <td>6.000000</td>\n",
       "      <td>15.000000</td>\n",
       "      <td>8.310000</td>\n",
       "    </tr>\n",
       "  </tbody>\n",
       "</table>\n",
       "</div>"
      ],
      "text/plain": [
       "              X1         X2         X3   Observed\n",
       "count  17.000000  17.000000  17.000000  17.000000\n",
       "mean    2.000000   4.000000   7.500000   6.289412\n",
       "std     0.707107   1.414214   5.303301   1.100945\n",
       "min     1.000000   2.000000   0.000000   4.470000\n",
       "25%     2.000000   4.000000   7.500000   5.810000\n",
       "50%     2.000000   4.000000   7.500000   6.280000\n",
       "75%     2.000000   4.000000   7.500000   6.930000\n",
       "max     3.000000   6.000000  15.000000   8.310000"
      ]
     },
     "execution_count": 3,
     "metadata": {},
     "output_type": "execute_result"
    }
   ],
   "source": [
    "data.describe()"
   ]
  },
  {
   "cell_type": "code",
   "execution_count": 4,
   "id": "326dcfff",
   "metadata": {},
   "outputs": [],
   "source": [
    "def get_preds(y_test, y_preds):\n",
    "    y_test=pd.DataFrame(y_test)\n",
    "    y_test.rename(columns={0:'Actual'}, inplace=True)\n",
    "    y_preds=pd.DataFrame(y_preds)\n",
    "    y_preds.rename(columns={0:'Predicted'}, inplace=True)\n",
    "    predictions=pd.concat([y_test, y_preds], axis=1)\n",
    "    return predictions    "
   ]
  },
  {
   "cell_type": "code",
   "execution_count": 5,
   "id": "16b4b44f",
   "metadata": {},
   "outputs": [],
   "source": [
    "from sklearn.model_selection import train_test_split, cross_val_score,KFold, GridSearchCV\n",
    "from sklearn.svm import SVR\n",
    "from sklearn.preprocessing import StandardScaler\n",
    "from math import sqrt\n",
    "from sklearn.metrics import r2_score, mean_absolute_error,mean_squared_error"
   ]
  },
  {
   "cell_type": "code",
   "execution_count": 6,
   "id": "1b0589a4",
   "metadata": {},
   "outputs": [],
   "source": [
    "target=\"Observed\"\n",
    "X=data.drop(columns=[target])\n",
    "y=data[target]"
   ]
  },
  {
   "cell_type": "code",
   "execution_count": 7,
   "id": "cf5bdbda",
   "metadata": {},
   "outputs": [
    {
     "data": {
      "text/plain": [
       "0     7.22\n",
       "1     7.52\n",
       "2     4.58\n",
       "3     6.45\n",
       "4     4.47\n",
       "5     5.67\n",
       "6     6.46\n",
       "7     7.76\n",
       "8     6.65\n",
       "9     4.52\n",
       "10    8.31\n",
       "11    6.93\n",
       "12    5.81\n",
       "13    6.21\n",
       "14    6.28\n",
       "15    6.22\n",
       "16    5.86\n",
       "Name: Observed, dtype: float64"
      ]
     },
     "execution_count": 7,
     "metadata": {},
     "output_type": "execute_result"
    }
   ],
   "source": [
    "y"
   ]
  },
  {
   "cell_type": "code",
   "execution_count": 8,
   "id": "a26585d0",
   "metadata": {},
   "outputs": [],
   "source": [
    "X1=X.values\n",
    "y1=y.values.reshape(-1,1)\n",
    "X_train, X_test, y_train, y_test= train_test_split(X1, y1, test_size=0.3, random_state=100)\n",
    "sc=StandardScaler()\n",
    "X_train=sc.fit_transform(X_train)\n",
    "X_test=sc.transform(X_test)\n",
    "x_df=sc.transform(X1)\n",
    "sc_y=StandardScaler()\n",
    "y_train=sc_y.fit_transform(y_train)\n",
    "y_test=sc_y.transform(y_test)\n",
    "y_df=sc_y.transform(y1)"
   ]
  },
  {
   "cell_type": "code",
   "execution_count": 9,
   "id": "1358d013",
   "metadata": {},
   "outputs": [
    {
     "name": "stdout",
     "output_type": "stream",
     "text": [
      "{'kernel': ['rbf', 'linear', 'poly', 'sigmoid'], 'C': range(100, 1000, 100), 'gamma': array([1.00000000e-10, 1.29154967e-09, 1.66810054e-08, 2.15443469e-07,\n",
      "       2.78255940e-06, 3.59381366e-05, 4.64158883e-04, 5.99484250e-03,\n",
      "       7.74263683e-02, 1.00000000e+00]), 'epsilon': array([0.001     , 0.00215443, 0.00464159, 0.01      , 0.02154435,\n",
      "       0.04641589, 0.1       , 0.21544347, 0.46415888, 1.        ])}\n"
     ]
    }
   ],
   "source": [
    "k=[\"rbf\", \"linear\", \"poly\", \"sigmoid\"]\n",
    "c=range(100,1000,100)\n",
    "g= np.logspace(-10, 0, 10)\n",
    "epsilon=np.logspace(-3, 0, 10)\n",
    "param_grid=dict(kernel=k,C=c, gamma=g,epsilon=epsilon)\n",
    "print(param_grid)"
   ]
  },
  {
   "cell_type": "code",
   "execution_count": 10,
   "id": "fd3b745c",
   "metadata": {},
   "outputs": [],
   "source": [
    "from sklearn.model_selection import train_test_split, cross_val_score,KFold, GridSearchCV\n",
    "from sklearn.svm import SVR\n",
    "from sklearn.preprocessing import StandardScaler\n",
    "from sklearn.metrics import mean_squared_error, make_scorer\n",
    "from sklearn.metrics import r2_score, mean_absolute_error"
   ]
  },
  {
   "cell_type": "code",
   "execution_count": 19,
   "id": "4dc1c35a",
   "metadata": {},
   "outputs": [
    {
     "name": "stdout",
     "output_type": "stream",
     "text": [
      "Fitting 3 folds for each of 3600 candidates, totalling 10800 fits\n"
     ]
    },
    {
     "data": {
      "text/plain": [
       "{'C': 700, 'epsilon': 0.001, 'gamma': 0.005994842503189421, 'kernel': 'rbf'}"
      ]
     },
     "execution_count": 19,
     "metadata": {},
     "output_type": "execute_result"
    }
   ],
   "source": [
    "import warnings\n",
    "warnings.filterwarnings(action=\"ignore\")\n",
    "svr=SVR()\n",
    "scorer=make_scorer(r2_score,greater_is_better=True)\n",
    "grid=GridSearchCV(svr, param_grid, cv=3, scoring=scorer,verbose=True)\n",
    "grid.fit(X_train, y_train.ravel())\n",
    "svr_params=grid.best_params_\n",
    "svr_params"
   ]
  },
  {
   "cell_type": "code",
   "execution_count": 20,
   "id": "0c46fd24",
   "metadata": {},
   "outputs": [
    {
     "data": {
      "text/html": [
       "<style>#sk-container-id-2 {color: black;background-color: white;}#sk-container-id-2 pre{padding: 0;}#sk-container-id-2 div.sk-toggleable {background-color: white;}#sk-container-id-2 label.sk-toggleable__label {cursor: pointer;display: block;width: 100%;margin-bottom: 0;padding: 0.3em;box-sizing: border-box;text-align: center;}#sk-container-id-2 label.sk-toggleable__label-arrow:before {content: \"▸\";float: left;margin-right: 0.25em;color: #696969;}#sk-container-id-2 label.sk-toggleable__label-arrow:hover:before {color: black;}#sk-container-id-2 div.sk-estimator:hover label.sk-toggleable__label-arrow:before {color: black;}#sk-container-id-2 div.sk-toggleable__content {max-height: 0;max-width: 0;overflow: hidden;text-align: left;background-color: #f0f8ff;}#sk-container-id-2 div.sk-toggleable__content pre {margin: 0.2em;color: black;border-radius: 0.25em;background-color: #f0f8ff;}#sk-container-id-2 input.sk-toggleable__control:checked~div.sk-toggleable__content {max-height: 200px;max-width: 100%;overflow: auto;}#sk-container-id-2 input.sk-toggleable__control:checked~label.sk-toggleable__label-arrow:before {content: \"▾\";}#sk-container-id-2 div.sk-estimator input.sk-toggleable__control:checked~label.sk-toggleable__label {background-color: #d4ebff;}#sk-container-id-2 div.sk-label input.sk-toggleable__control:checked~label.sk-toggleable__label {background-color: #d4ebff;}#sk-container-id-2 input.sk-hidden--visually {border: 0;clip: rect(1px 1px 1px 1px);clip: rect(1px, 1px, 1px, 1px);height: 1px;margin: -1px;overflow: hidden;padding: 0;position: absolute;width: 1px;}#sk-container-id-2 div.sk-estimator {font-family: monospace;background-color: #f0f8ff;border: 1px dotted black;border-radius: 0.25em;box-sizing: border-box;margin-bottom: 0.5em;}#sk-container-id-2 div.sk-estimator:hover {background-color: #d4ebff;}#sk-container-id-2 div.sk-parallel-item::after {content: \"\";width: 100%;border-bottom: 1px solid gray;flex-grow: 1;}#sk-container-id-2 div.sk-label:hover label.sk-toggleable__label {background-color: #d4ebff;}#sk-container-id-2 div.sk-serial::before {content: \"\";position: absolute;border-left: 1px solid gray;box-sizing: border-box;top: 0;bottom: 0;left: 50%;z-index: 0;}#sk-container-id-2 div.sk-serial {display: flex;flex-direction: column;align-items: center;background-color: white;padding-right: 0.2em;padding-left: 0.2em;position: relative;}#sk-container-id-2 div.sk-item {position: relative;z-index: 1;}#sk-container-id-2 div.sk-parallel {display: flex;align-items: stretch;justify-content: center;background-color: white;position: relative;}#sk-container-id-2 div.sk-item::before, #sk-container-id-2 div.sk-parallel-item::before {content: \"\";position: absolute;border-left: 1px solid gray;box-sizing: border-box;top: 0;bottom: 0;left: 50%;z-index: -1;}#sk-container-id-2 div.sk-parallel-item {display: flex;flex-direction: column;z-index: 1;position: relative;background-color: white;}#sk-container-id-2 div.sk-parallel-item:first-child::after {align-self: flex-end;width: 50%;}#sk-container-id-2 div.sk-parallel-item:last-child::after {align-self: flex-start;width: 50%;}#sk-container-id-2 div.sk-parallel-item:only-child::after {width: 0;}#sk-container-id-2 div.sk-dashed-wrapped {border: 1px dashed gray;margin: 0 0.4em 0.5em 0.4em;box-sizing: border-box;padding-bottom: 0.4em;background-color: white;}#sk-container-id-2 div.sk-label label {font-family: monospace;font-weight: bold;display: inline-block;line-height: 1.2em;}#sk-container-id-2 div.sk-label-container {text-align: center;}#sk-container-id-2 div.sk-container {/* jupyter's `normalize.less` sets `[hidden] { display: none; }` but bootstrap.min.css set `[hidden] { display: none !important; }` so we also need the `!important` here to be able to override the default hidden behavior on the sphinx rendered scikit-learn.org. See: https://github.com/scikit-learn/scikit-learn/issues/21755 */display: inline-block !important;position: relative;}#sk-container-id-2 div.sk-text-repr-fallback {display: none;}</style><div id=\"sk-container-id-2\" class=\"sk-top-container\"><div class=\"sk-text-repr-fallback\"><pre>SVR(C=700, epsilon=0.001, gamma=0.005994842503189421)</pre><b>In a Jupyter environment, please rerun this cell to show the HTML representation or trust the notebook. <br />On GitHub, the HTML representation is unable to render, please try loading this page with nbviewer.org.</b></div><div class=\"sk-container\" hidden><div class=\"sk-item\"><div class=\"sk-estimator sk-toggleable\"><input class=\"sk-toggleable__control sk-hidden--visually\" id=\"sk-estimator-id-2\" type=\"checkbox\" checked><label for=\"sk-estimator-id-2\" class=\"sk-toggleable__label sk-toggleable__label-arrow\">SVR</label><div class=\"sk-toggleable__content\"><pre>SVR(C=700, epsilon=0.001, gamma=0.005994842503189421)</pre></div></div></div></div></div>"
      ],
      "text/plain": [
       "SVR(C=700, epsilon=0.001, gamma=0.005994842503189421)"
      ]
     },
     "execution_count": 20,
     "metadata": {},
     "output_type": "execute_result"
    }
   ],
   "source": [
    "best_svr=grid.best_estimator_\n",
    "best_svr"
   ]
  },
  {
   "cell_type": "code",
   "execution_count": 63,
   "id": "f5fde3a5",
   "metadata": {},
   "outputs": [
    {
     "name": "stdout",
     "output_type": "stream",
     "text": [
      "executed in 0.006383419036865234 seconds or 6.383419036865234 milliseconds\n"
     ]
    },
    {
     "data": {
      "text/plain": [
       "array([-0.08706865, -1.82777654,  0.33782642,  1.33716669, -0.08706865,\n",
       "        0.18572339])"
      ]
     },
     "execution_count": 63,
     "metadata": {},
     "output_type": "execute_result"
    }
   ],
   "source": [
    "import time\n",
    "start_time=time.time()\n",
    "best_svr.fit(X_train, y_train.ravel())\n",
    "y_preds=best_svr.predict(X_test)\n",
    "elapsed_time=time.time()-start_time\n",
    "print(f'executed in {elapsed_time} seconds or {elapsed_time*1000} milliseconds')\n",
    "y_preds"
   ]
  },
  {
   "cell_type": "code",
   "execution_count": 22,
   "id": "dfd55f06",
   "metadata": {},
   "outputs": [
    {
     "data": {
      "text/html": [
       "<div>\n",
       "<style scoped>\n",
       "    .dataframe tbody tr th:only-of-type {\n",
       "        vertical-align: middle;\n",
       "    }\n",
       "\n",
       "    .dataframe tbody tr th {\n",
       "        vertical-align: top;\n",
       "    }\n",
       "\n",
       "    .dataframe thead th {\n",
       "        text-align: right;\n",
       "    }\n",
       "</style>\n",
       "<table border=\"1\" class=\"dataframe\">\n",
       "  <thead>\n",
       "    <tr style=\"text-align: right;\">\n",
       "      <th></th>\n",
       "      <th>Actual</th>\n",
       "      <th>Predicted</th>\n",
       "    </tr>\n",
       "  </thead>\n",
       "  <tbody>\n",
       "    <tr>\n",
       "      <th>0</th>\n",
       "      <td>6.28</td>\n",
       "      <td>6.210603</td>\n",
       "    </tr>\n",
       "    <tr>\n",
       "      <th>1</th>\n",
       "      <td>4.52</td>\n",
       "      <td>4.241602</td>\n",
       "    </tr>\n",
       "    <tr>\n",
       "      <th>2</th>\n",
       "      <td>6.93</td>\n",
       "      <td>6.691223</td>\n",
       "    </tr>\n",
       "    <tr>\n",
       "      <th>3</th>\n",
       "      <td>7.52</td>\n",
       "      <td>7.821626</td>\n",
       "    </tr>\n",
       "    <tr>\n",
       "      <th>4</th>\n",
       "      <td>5.81</td>\n",
       "      <td>6.210603</td>\n",
       "    </tr>\n",
       "    <tr>\n",
       "      <th>5</th>\n",
       "      <td>6.46</td>\n",
       "      <td>6.519172</td>\n",
       "    </tr>\n",
       "  </tbody>\n",
       "</table>\n",
       "</div>"
      ],
      "text/plain": [
       "   Actual  Predicted\n",
       "0    6.28   6.210603\n",
       "1    4.52   4.241602\n",
       "2    6.93   6.691223\n",
       "3    7.52   7.821626\n",
       "4    5.81   6.210603\n",
       "5    6.46   6.519172"
      ]
     },
     "execution_count": 22,
     "metadata": {},
     "output_type": "execute_result"
    }
   ],
   "source": [
    "y_test1 = sc_y.inverse_transform(y_test)\n",
    "pred1 = sc_y.inverse_transform(y_preds.reshape(-1,1))\n",
    "svr_predictions=get_preds(y_test1, pred1)\n",
    "svr_predictions"
   ]
  },
  {
   "cell_type": "code",
   "execution_count": 23,
   "id": "26376363",
   "metadata": {},
   "outputs": [
    {
     "data": {
      "text/plain": [
       "0.9749277890397124"
      ]
     },
     "execution_count": 23,
     "metadata": {},
     "output_type": "execute_result"
    }
   ],
   "source": [
    "corr_test=svr_predictions[\"Actual\"].corr(svr_predictions[\"Predicted\"])\n",
    "corr_test"
   ]
  },
  {
   "cell_type": "code",
   "execution_count": 24,
   "id": "0511365b",
   "metadata": {},
   "outputs": [
    {
     "name": "stdout",
     "output_type": "stream",
     "text": [
      "Mean absolute error : 0.1986139886833891\n",
      "Mean squared error : 0.05136101568166309\n",
      "Root Mean squared error : 0.22662968843834888\n",
      "R2 Score : 0.9417371786261469\n"
     ]
    }
   ],
   "source": [
    "print(\"Mean absolute error :\", mean_absolute_error(y_test,y_preds))\n",
    "print(\"Mean squared error :\",mean_squared_error(y_test,y_preds))\n",
    "print(\"Root Mean squared error :\",sqrt(mean_squared_error(y_test,y_preds)))\n",
    "print(\"R2 Score :\",r2_score(y_preds,y_test))"
   ]
  },
  {
   "cell_type": "code",
   "execution_count": 25,
   "id": "79bd4064",
   "metadata": {},
   "outputs": [],
   "source": [
    "pred=best_svr.predict(X_train)"
   ]
  },
  {
   "cell_type": "code",
   "execution_count": 26,
   "id": "0d587fa4",
   "metadata": {},
   "outputs": [
    {
     "data": {
      "text/html": [
       "<div>\n",
       "<style scoped>\n",
       "    .dataframe tbody tr th:only-of-type {\n",
       "        vertical-align: middle;\n",
       "    }\n",
       "\n",
       "    .dataframe tbody tr th {\n",
       "        vertical-align: top;\n",
       "    }\n",
       "\n",
       "    .dataframe thead th {\n",
       "        text-align: right;\n",
       "    }\n",
       "</style>\n",
       "<table border=\"1\" class=\"dataframe\">\n",
       "  <thead>\n",
       "    <tr style=\"text-align: right;\">\n",
       "      <th></th>\n",
       "      <th>Actual</th>\n",
       "      <th>Predicted</th>\n",
       "    </tr>\n",
       "  </thead>\n",
       "  <tbody>\n",
       "    <tr>\n",
       "      <th>0</th>\n",
       "      <td>6.22</td>\n",
       "      <td>6.210603</td>\n",
       "    </tr>\n",
       "    <tr>\n",
       "      <th>1</th>\n",
       "      <td>5.67</td>\n",
       "      <td>5.671399</td>\n",
       "    </tr>\n",
       "    <tr>\n",
       "      <th>2</th>\n",
       "      <td>4.58</td>\n",
       "      <td>4.581571</td>\n",
       "    </tr>\n",
       "    <tr>\n",
       "      <th>3</th>\n",
       "      <td>4.47</td>\n",
       "      <td>4.471303</td>\n",
       "    </tr>\n",
       "    <tr>\n",
       "      <th>4</th>\n",
       "      <td>8.31</td>\n",
       "      <td>8.308191</td>\n",
       "    </tr>\n",
       "    <tr>\n",
       "      <th>5</th>\n",
       "      <td>7.22</td>\n",
       "      <td>7.219248</td>\n",
       "    </tr>\n",
       "    <tr>\n",
       "      <th>6</th>\n",
       "      <td>6.21</td>\n",
       "      <td>6.210603</td>\n",
       "    </tr>\n",
       "    <tr>\n",
       "      <th>7</th>\n",
       "      <td>7.76</td>\n",
       "      <td>7.761309</td>\n",
       "    </tr>\n",
       "    <tr>\n",
       "      <th>8</th>\n",
       "      <td>6.45</td>\n",
       "      <td>6.448651</td>\n",
       "    </tr>\n",
       "    <tr>\n",
       "      <th>9</th>\n",
       "      <td>5.86</td>\n",
       "      <td>6.210603</td>\n",
       "    </tr>\n",
       "    <tr>\n",
       "      <th>10</th>\n",
       "      <td>6.65</td>\n",
       "      <td>6.648843</td>\n",
       "    </tr>\n",
       "  </tbody>\n",
       "</table>\n",
       "</div>"
      ],
      "text/plain": [
       "    Actual  Predicted\n",
       "0     6.22   6.210603\n",
       "1     5.67   5.671399\n",
       "2     4.58   4.581571\n",
       "3     4.47   4.471303\n",
       "4     8.31   8.308191\n",
       "5     7.22   7.219248\n",
       "6     6.21   6.210603\n",
       "7     7.76   7.761309\n",
       "8     6.45   6.448651\n",
       "9     5.86   6.210603\n",
       "10    6.65   6.648843"
      ]
     },
     "execution_count": 26,
     "metadata": {},
     "output_type": "execute_result"
    }
   ],
   "source": [
    "y_train1 = sc_y.inverse_transform(y_train)\n",
    "pred_train = sc_y.inverse_transform(pred.reshape(-1,1))\n",
    "svr_prediction_train=get_preds(y_train1, pred_train)\n",
    "svr_prediction_train"
   ]
  },
  {
   "cell_type": "code",
   "execution_count": 27,
   "id": "395ec6f6",
   "metadata": {
    "scrolled": true
   },
   "outputs": [
    {
     "data": {
      "text/plain": [
       "0.9911207847426418"
      ]
     },
     "execution_count": 27,
     "metadata": {},
     "output_type": "execute_result"
    }
   ],
   "source": [
    "r2_score(svr_prediction_train[\"Predicted\"],svr_prediction_train[\"Actual\"])"
   ]
  },
  {
   "cell_type": "code",
   "execution_count": 28,
   "id": "97499822",
   "metadata": {},
   "outputs": [
    {
     "data": {
      "text/plain": [
       "0.9960072390374254"
      ]
     },
     "execution_count": 28,
     "metadata": {},
     "output_type": "execute_result"
    }
   ],
   "source": [
    "corr_train=svr_prediction_train[\"Actual\"].corr(svr_prediction_train[\"Predicted\"])\n",
    "corr_train"
   ]
  },
  {
   "cell_type": "code",
   "execution_count": 29,
   "id": "412b7bb3",
   "metadata": {},
   "outputs": [
    {
     "name": "stdout",
     "output_type": "stream",
     "text": [
      "Mean absolute error : 0.02983712480722643\n",
      "Mean squared error : 0.008741071984097022\n",
      "Root Mean squared error : 0.09349370023748671\n"
     ]
    }
   ],
   "source": [
    "print(\"Mean absolute error :\", mean_absolute_error(y_train,pred))\n",
    "print(\"Mean squared error :\",mean_squared_error(y_train,pred))\n",
    "print(\"Root Mean squared error :\",sqrt(mean_squared_error(y_train,pred)))"
   ]
  },
  {
   "cell_type": "code",
   "execution_count": null,
   "id": "c93357a7",
   "metadata": {},
   "outputs": [],
   "source": []
  },
  {
   "cell_type": "code",
   "execution_count": 30,
   "id": "8f2d8bba",
   "metadata": {},
   "outputs": [],
   "source": [
    "pred_df=best_svr.predict(x_df)"
   ]
  },
  {
   "cell_type": "code",
   "execution_count": 31,
   "id": "4c8d21ff",
   "metadata": {},
   "outputs": [
    {
     "data": {
      "text/plain": [
       "0.9733245730331834"
      ]
     },
     "execution_count": 31,
     "metadata": {},
     "output_type": "execute_result"
    }
   ],
   "source": [
    "r2_score(y_df,pred_df)"
   ]
  },
  {
   "cell_type": "code",
   "execution_count": 32,
   "id": "54d75bd8",
   "metadata": {
    "scrolled": false
   },
   "outputs": [
    {
     "data": {
      "text/html": [
       "<div>\n",
       "<style scoped>\n",
       "    .dataframe tbody tr th:only-of-type {\n",
       "        vertical-align: middle;\n",
       "    }\n",
       "\n",
       "    .dataframe tbody tr th {\n",
       "        vertical-align: top;\n",
       "    }\n",
       "\n",
       "    .dataframe thead th {\n",
       "        text-align: right;\n",
       "    }\n",
       "</style>\n",
       "<table border=\"1\" class=\"dataframe\">\n",
       "  <thead>\n",
       "    <tr style=\"text-align: right;\">\n",
       "      <th></th>\n",
       "      <th>Actual</th>\n",
       "      <th>Predicted</th>\n",
       "    </tr>\n",
       "  </thead>\n",
       "  <tbody>\n",
       "    <tr>\n",
       "      <th>0</th>\n",
       "      <td>7.22</td>\n",
       "      <td>7.219248</td>\n",
       "    </tr>\n",
       "    <tr>\n",
       "      <th>1</th>\n",
       "      <td>7.52</td>\n",
       "      <td>7.821626</td>\n",
       "    </tr>\n",
       "    <tr>\n",
       "      <th>2</th>\n",
       "      <td>4.58</td>\n",
       "      <td>4.581571</td>\n",
       "    </tr>\n",
       "    <tr>\n",
       "      <th>3</th>\n",
       "      <td>6.45</td>\n",
       "      <td>6.448651</td>\n",
       "    </tr>\n",
       "    <tr>\n",
       "      <th>4</th>\n",
       "      <td>4.47</td>\n",
       "      <td>4.471303</td>\n",
       "    </tr>\n",
       "    <tr>\n",
       "      <th>5</th>\n",
       "      <td>5.67</td>\n",
       "      <td>5.671399</td>\n",
       "    </tr>\n",
       "    <tr>\n",
       "      <th>6</th>\n",
       "      <td>6.46</td>\n",
       "      <td>6.519172</td>\n",
       "    </tr>\n",
       "    <tr>\n",
       "      <th>7</th>\n",
       "      <td>7.76</td>\n",
       "      <td>7.761309</td>\n",
       "    </tr>\n",
       "    <tr>\n",
       "      <th>8</th>\n",
       "      <td>6.65</td>\n",
       "      <td>6.648843</td>\n",
       "    </tr>\n",
       "    <tr>\n",
       "      <th>9</th>\n",
       "      <td>4.52</td>\n",
       "      <td>4.241602</td>\n",
       "    </tr>\n",
       "    <tr>\n",
       "      <th>10</th>\n",
       "      <td>8.31</td>\n",
       "      <td>8.308191</td>\n",
       "    </tr>\n",
       "    <tr>\n",
       "      <th>11</th>\n",
       "      <td>6.93</td>\n",
       "      <td>6.691223</td>\n",
       "    </tr>\n",
       "    <tr>\n",
       "      <th>12</th>\n",
       "      <td>5.81</td>\n",
       "      <td>6.210603</td>\n",
       "    </tr>\n",
       "    <tr>\n",
       "      <th>13</th>\n",
       "      <td>6.21</td>\n",
       "      <td>6.210603</td>\n",
       "    </tr>\n",
       "    <tr>\n",
       "      <th>14</th>\n",
       "      <td>6.28</td>\n",
       "      <td>6.210603</td>\n",
       "    </tr>\n",
       "    <tr>\n",
       "      <th>15</th>\n",
       "      <td>6.22</td>\n",
       "      <td>6.210603</td>\n",
       "    </tr>\n",
       "    <tr>\n",
       "      <th>16</th>\n",
       "      <td>5.86</td>\n",
       "      <td>6.210603</td>\n",
       "    </tr>\n",
       "  </tbody>\n",
       "</table>\n",
       "</div>"
      ],
      "text/plain": [
       "    Actual  Predicted\n",
       "0     7.22   7.219248\n",
       "1     7.52   7.821626\n",
       "2     4.58   4.581571\n",
       "3     6.45   6.448651\n",
       "4     4.47   4.471303\n",
       "5     5.67   5.671399\n",
       "6     6.46   6.519172\n",
       "7     7.76   7.761309\n",
       "8     6.65   6.648843\n",
       "9     4.52   4.241602\n",
       "10    8.31   8.308191\n",
       "11    6.93   6.691223\n",
       "12    5.81   6.210603\n",
       "13    6.21   6.210603\n",
       "14    6.28   6.210603\n",
       "15    6.22   6.210603\n",
       "16    5.86   6.210603"
      ]
     },
     "execution_count": 32,
     "metadata": {},
     "output_type": "execute_result"
    }
   ],
   "source": [
    "y_df1 = sc_y.inverse_transform(y_df)\n",
    "pred_df1 = sc_y.inverse_transform(pred_df.reshape(-1,1))\n",
    "svr_prediction_df=get_preds(y_df1, pred_df1)\n",
    "svr_prediction_df"
   ]
  },
  {
   "cell_type": "code",
   "execution_count": null,
   "id": "c3ecceb4",
   "metadata": {},
   "outputs": [],
   "source": []
  },
  {
   "cell_type": "code",
   "execution_count": 33,
   "id": "17a8b61b",
   "metadata": {},
   "outputs": [
    {
     "name": "stdout",
     "output_type": "stream",
     "text": [
      "Mean absolute error : 0.10113090640443759\n",
      "Mean squared error : 0.030430847110663965\n",
      "Root Mean squared error : 0.17444439546934137\n",
      "R2 Score : 0.9733245730331834\n"
     ]
    }
   ],
   "source": [
    "print(\"Mean absolute error :\", mean_absolute_error(y_df1,pred_df1))\n",
    "print(\"Mean squared error :\",mean_squared_error(y_df1,pred_df1))\n",
    "print(\"Root Mean squared error :\",sqrt(mean_squared_error(y_df1,pred_df1)))\n",
    "print(\"R2 Score :\",r2_score(y_df1,pred_df1))"
   ]
  },
  {
   "cell_type": "code",
   "execution_count": 34,
   "id": "d820d63d",
   "metadata": {},
   "outputs": [
    {
     "data": {
      "image/png": "[encoded data removed]",
      "text/plain": [
       "<Figure size 864x360 with 1 Axes>"
      ]
     },
     "metadata": {
      "needs_background": "light"
     },
     "output_type": "display_data"
    }
   ],
   "source": [
    "fig, ax = plt.subplots(1,1, figsize=(12, 5))\n",
    "plt.plot(y_df1, y_df1)\n",
    "plt.scatter(pred_df1, y_df1)\n",
    "plt.xlabel(\"Predictions\")\n",
    "plt.ylabel(\"Actual\")\n",
    "plt.title(\"SVR\");"
   ]
  },
  {
   "cell_type": "code",
   "execution_count": 35,
   "id": "0174b966",
   "metadata": {},
   "outputs": [
    {
     "data": {
      "image/png": "[encoded data removed]",
      "text/plain": [
       "<Figure size 864x360 with 1 Axes>"
      ]
     },
     "metadata": {
      "needs_background": "light"
     },
     "output_type": "display_data"
    }
   ],
   "source": [
    "fig, ax = plt.subplots(1,1, figsize=(12, 5))\n",
    "plt.plot(y_df1)\n",
    "plt.plot(pred_df1)\n",
    "plt.xlabel(\"Predictions\")\n",
    "plt.ylabel(\"Actual\")\n",
    "plt.title(\"SVR model - Full dataset\");"
   ]
  },
  {
   "cell_type": "code",
   "execution_count": null,
   "id": "7fb70d73",
   "metadata": {},
   "outputs": [],
   "source": []
  },
  {
   "cell_type": "code",
   "execution_count": 36,
   "id": "5a6c6624",
   "metadata": {},
   "outputs": [
    {
     "name": "stdout",
     "output_type": "stream",
     "text": [
      "{'C': range(0, 1100, 100), 'gamma': array([1.00000000e-06, 4.64158883e-06, 2.15443469e-05, 1.00000000e-04,\n",
      "       4.64158883e-04, 2.15443469e-03, 1.00000000e-02, 4.64158883e-02,\n",
      "       2.15443469e-01, 1.00000000e+00]), 'epsilon': array([0.001     , 0.00237137, 0.00562341, 0.01333521, 0.03162278,\n",
      "       0.07498942, 0.17782794, 0.4216965 , 1.        ])}\n"
     ]
    }
   ],
   "source": [
    "c=range(0,1100,100)\n",
    "g= np.logspace(-6, 0, 10)\n",
    "epsilon=np.logspace(-3, 0, 9)\n",
    "param_grid=dict(C=c, gamma=g,epsilon=epsilon)\n",
    "print(param_grid)"
   ]
  },
  {
   "cell_type": "code",
   "execution_count": 37,
   "id": "23397e66",
   "metadata": {},
   "outputs": [
    {
     "name": "stdout",
     "output_type": "stream",
     "text": [
      "Fitting 3 folds for each of 990 candidates, totalling 2970 fits\n"
     ]
    },
    {
     "data": {
      "text/plain": [
       "{'C': 100, 'epsilon': 0.1778279410038923, 'gamma': 0.046415888336127725}"
      ]
     },
     "execution_count": 37,
     "metadata": {},
     "output_type": "execute_result"
    }
   ],
   "source": [
    "import warnings\n",
    "warnings.filterwarnings(action=\"ignore\")\n",
    "svr_poly=SVR(kernel=\"poly\")\n",
    "scorer=make_scorer(r2_score,greater_is_better=True)\n",
    "grid_poly=GridSearchCV(svr_poly, param_grid, cv=3, scoring=scorer,verbose=True)\n",
    "grid_poly.fit(X_train, y_train.ravel())\n",
    "svr_params_poly=grid_poly.best_params_\n",
    "svr_params_poly"
   ]
  },
  {
   "cell_type": "code",
   "execution_count": 38,
   "id": "e43ad362",
   "metadata": {
    "scrolled": true
   },
   "outputs": [
    {
     "name": "stdout",
     "output_type": "stream",
     "text": [
      "POLY TRAIN Mean absolute error : 0.3173051914146546\n",
      "POLY TRAIN Mean squared error : 0.15014813641017455\n",
      "POLY TRAIN Root Mean squared error : 0.387489530710411\n",
      "POLY TRAIN R2 Score : 0.8498518635898255\n",
      "\n",
      "\n",
      "POLY TEST Mean absolute error : 0.3320079076656201\n",
      "POLY TEST Mean squared error : 0.17812305223504085\n",
      "POLY TEST Root Mean squared error : 0.42204626788426985\n",
      "POLY TEST R2 Score : 0.7423179755115632\n"
     ]
    }
   ],
   "source": [
    "pred_poly=grid_poly.predict(X_train)\n",
    "pred_poly_test=grid_poly.predict(X_test)\n",
    "print(\"POLY TRAIN Mean absolute error :\", mean_absolute_error(y_train,pred_poly))\n",
    "print(\"POLY TRAIN Mean squared error :\",mean_squared_error(y_train,pred_poly))\n",
    "print(\"POLY TRAIN Root Mean squared error :\",sqrt(mean_squared_error(y_train,pred_poly)))\n",
    "print(\"POLY TRAIN R2 Score :\", r2_score(y_train,pred_poly))\n",
    "print(\"\\n\")\n",
    "print(\"POLY TEST Mean absolute error :\", mean_absolute_error(y_test,pred_poly_test))\n",
    "print(\"POLY TEST Mean squared error :\",mean_squared_error(y_test,pred_poly_test))\n",
    "print(\"POLY TEST Root Mean squared error :\",sqrt(mean_squared_error(y_test,pred_poly_test)))\n",
    "print(\"POLY TEST R2 Score :\", r2_score(y_test,pred_poly_test))"
   ]
  },
  {
   "cell_type": "code",
   "execution_count": null,
   "id": "525cc77d",
   "metadata": {},
   "outputs": [],
   "source": []
  },
  {
   "cell_type": "code",
   "execution_count": null,
   "id": "9ab8bebc",
   "metadata": {},
   "outputs": [],
   "source": []
  },
  {
   "cell_type": "code",
   "execution_count": 39,
   "id": "42e9174d",
   "metadata": {},
   "outputs": [
    {
     "name": "stdout",
     "output_type": "stream",
     "text": [
      "{'C': range(0, 1100, 100), 'gamma': array([1.00000000e-06, 4.64158883e-06, 2.15443469e-05, 1.00000000e-04,\n",
      "       4.64158883e-04, 2.15443469e-03, 1.00000000e-02, 4.64158883e-02,\n",
      "       2.15443469e-01, 1.00000000e+00]), 'epsilon': array([0.001     , 0.00237137, 0.00562341, 0.01333521, 0.03162278,\n",
      "       0.07498942, 0.17782794, 0.4216965 , 1.        ])}\n"
     ]
    }
   ],
   "source": [
    "c1=range(0,1100,100)\n",
    "g1= np.logspace(-6, 0, 10)\n",
    "epsilon1=np.logspace(-3, 0, 9)\n",
    "param_grid_lin=dict(C=c1, gamma=g1,epsilon=epsilon1)\n",
    "print(param_grid_lin)"
   ]
  },
  {
   "cell_type": "code",
   "execution_count": 40,
   "id": "24495342",
   "metadata": {},
   "outputs": [
    {
     "name": "stdout",
     "output_type": "stream",
     "text": [
      "Fitting 3 folds for each of 990 candidates, totalling 2970 fits\n"
     ]
    },
    {
     "data": {
      "text/plain": [
       "{'C': 400, 'epsilon': 0.005623413251903491, 'gamma': 1e-06}"
      ]
     },
     "execution_count": 40,
     "metadata": {},
     "output_type": "execute_result"
    }
   ],
   "source": [
    "import warnings\n",
    "warnings.filterwarnings(action=\"ignore\")\n",
    "svr_lin=SVR(kernel=\"linear\")\n",
    "scorer=make_scorer(r2_score,greater_is_better=True)\n",
    "grid_lin=GridSearchCV(svr_lin, param_grid, cv=3, scoring=scorer,verbose=True)\n",
    "grid_lin.fit(X_train, y_train.ravel())\n",
    "svr_params_lin=grid_lin.best_params_\n",
    "svr_params_lin"
   ]
  },
  {
   "cell_type": "code",
   "execution_count": 41,
   "id": "60ebeac5",
   "metadata": {},
   "outputs": [
    {
     "name": "stdout",
     "output_type": "stream",
     "text": [
      "LINEAR TRAIN Mean absolute error : 0.18057304222502532\n",
      "LINEAR TRAIN Mean squared error : 0.08022371789913242\n",
      "LINEAR TRAIN Root Mean squared error : 0.2832379174812801\n",
      "LINEAR TRAIN R2 Score : 0.9197762821008676\n",
      "\n",
      "\n",
      "LINEAR TEST Mean absolute error : 0.32876394203904896\n",
      "LINEAR TEST Mean squared error : 0.14772441459953356\n",
      "LINEAR TEST Root Mean squared error : 0.3843493392729244\n",
      "LINEAR TEST R2 Score : 0.7862942177178313\n"
     ]
    }
   ],
   "source": [
    "pred_lin=grid_lin.predict(X_train)\n",
    "pred_lin_test=grid_lin.predict(X_test)\n",
    "print(\"LINEAR TRAIN Mean absolute error :\", mean_absolute_error(y_train,pred_lin))\n",
    "print(\"LINEAR TRAIN Mean squared error :\",mean_squared_error(y_train,pred_lin))\n",
    "print(\"LINEAR TRAIN Root Mean squared error :\",sqrt(mean_squared_error(y_train,pred_lin)))\n",
    "print(\"LINEAR TRAIN R2 Score :\", r2_score(y_train,pred_lin))\n",
    "print(\"\\n\")\n",
    "print(\"LINEAR TEST Mean absolute error :\", mean_absolute_error(y_test,pred_lin_test))\n",
    "print(\"LINEAR TEST Mean squared error :\",mean_squared_error(y_test,pred_lin_test))\n",
    "print(\"LINEAR TEST Root Mean squared error :\",sqrt(mean_squared_error(y_test,pred_lin_test)))\n",
    "print(\"LINEAR TEST R2 Score :\", r2_score(y_test,pred_lin_test))"
   ]
  },
  {
   "cell_type": "code",
   "execution_count": null,
   "id": "acef7b0a",
   "metadata": {},
   "outputs": [],
   "source": []
  },
  {
   "cell_type": "code",
   "execution_count": null,
   "id": "b34d7207",
   "metadata": {},
   "outputs": [],
   "source": []
  },
  {
   "cell_type": "code",
   "execution_count": 42,
   "id": "7991f9ae",
   "metadata": {},
   "outputs": [
    {
     "name": "stdout",
     "output_type": "stream",
     "text": [
      "{'C': range(0, 1100, 100), 'gamma': array([1.00000000e-05, 3.59381366e-05, 1.29154967e-04, 4.64158883e-04,\n",
      "       1.66810054e-03, 5.99484250e-03, 2.15443469e-02, 7.74263683e-02,\n",
      "       2.78255940e-01, 1.00000000e+00]), 'epsilon': array([1.00000000e-05, 1.77827941e-04, 3.16227766e-03, 5.62341325e-02,\n",
      "       1.00000000e+00])}\n"
     ]
    }
   ],
   "source": [
    "c2=range(0,1100,100)\n",
    "g2= np.logspace(-5, 0, 10)\n",
    "epsilon2=np.logspace(-5, 0, 5)\n",
    "param_grid_sig=dict(C=c2, gamma=g2,epsilon=epsilon2)\n",
    "print(param_grid_sig)"
   ]
  },
  {
   "cell_type": "code",
   "execution_count": 43,
   "id": "946351bd",
   "metadata": {},
   "outputs": [
    {
     "name": "stdout",
     "output_type": "stream",
     "text": [
      "Fitting 3 folds for each of 550 candidates, totalling 1650 fits\n"
     ]
    },
    {
     "data": {
      "text/plain": [
       "{'C': 1000, 'epsilon': 1e-05, 'gamma': 0.021544346900318846}"
      ]
     },
     "execution_count": 43,
     "metadata": {},
     "output_type": "execute_result"
    }
   ],
   "source": [
    "svr_sig=SVR(kernel=\"sigmoid\")\n",
    "scorer=make_scorer(r2_score,greater_is_better=True)\n",
    "grid_sig=GridSearchCV(svr_sig, param_grid_sig, cv=3, scoring=scorer,verbose=True)\n",
    "grid_sig.fit(X_train, y_train.ravel())\n",
    "svr_params_sig=grid_sig.best_params_\n",
    "svr_params_sig"
   ]
  },
  {
   "cell_type": "code",
   "execution_count": 44,
   "id": "f8c6f0f7",
   "metadata": {},
   "outputs": [
    {
     "name": "stdout",
     "output_type": "stream",
     "text": [
      "SIGMOID TRAIN Mean absolute error : 0.23218328214876188\n",
      "SIGMOID TRAIN Mean squared error : 0.11600237424143943\n",
      "SIGMOID TRAIN Root Mean squared error : 0.34059121280714133\n",
      "SIGMOID TRAIN R2 Score : 0.8839976257585606\n",
      "\n",
      "\n",
      "SIGMOID TEST Mean absolute error : 0.2775843885562879\n",
      "SIGMOID TEST Mean squared error : 0.09225317238796016\n",
      "SIGMOID TEST Root Mean squared error : 0.30373207336065144\n",
      "SIGMOID TEST R2 Score : 0.8665417871065773\n"
     ]
    }
   ],
   "source": [
    "pred_sig=grid_sig.predict(X_train)\n",
    "pred_sig_test=grid_sig.predict(X_test)\n",
    "print(\"SIGMOID TRAIN Mean absolute error :\", mean_absolute_error(y_train,pred_sig))\n",
    "print(\"SIGMOID TRAIN Mean squared error :\",mean_squared_error(y_train,pred_sig))\n",
    "print(\"SIGMOID TRAIN Root Mean squared error :\",sqrt(mean_squared_error(y_train,pred_sig)))\n",
    "print(\"SIGMOID TRAIN R2 Score :\", r2_score(y_train,pred_sig))\n",
    "print(\"\\n\")\n",
    "print(\"SIGMOID TEST Mean absolute error :\", mean_absolute_error(y_test,pred_sig_test))\n",
    "print(\"SIGMOID TEST Mean squared error :\",mean_squared_error(y_test,pred_sig_test))\n",
    "print(\"SIGMOID TEST Root Mean squared error :\",sqrt(mean_squared_error(y_test,pred_sig_test)))\n",
    "print(\"SIGMOID TEST R2 Score :\", r2_score(y_test,pred_sig_test))"
   ]
  },
  {
   "cell_type": "code",
   "execution_count": null,
   "id": "abaa0764",
   "metadata": {},
   "outputs": [],
   "source": []
  },
  {
   "cell_type": "code",
   "execution_count": null,
   "id": "3129c043",
   "metadata": {},
   "outputs": [],
   "source": []
  }
 ],
 "metadata": {
  "kernelspec": {
   "display_name": "Python 3 (ipykernel)",
   "language": "python",
   "name": "python3"
  },
  "language_info": {
   "codemirror_mode": {
    "name": "ipython",
    "version": 3
   },
   "file_extension": ".py",
   "mimetype": "text/x-python",
   "name": "python",
   "nbconvert_exporter": "python",
   "pygments_lexer": "ipython3",
   "version": "3.9.7"
  }
 },
 "nbformat": 4,
 "nbformat_minor": 5
}
